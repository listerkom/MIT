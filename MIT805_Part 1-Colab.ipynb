{
 "cells": [
  {
   "cell_type": "markdown",
   "id": "9d30d6ce-d274-42cc-bea8-f687d8f6e110",
   "metadata": {
    "tags": []
   },
   "source": [
    "### The data\n",
    "\n",
    "The dataset was sourced from Bureau of Transportation Statistics website [2]. The information includes arrival and departure times and flight details for every commercial flight operating within the United States, from October 1995 to 2022. We limited our analysis to the last 5 years due to the large quantity of the dataset i.e. Jan 2018 – June 2022, with the total size of the csv files adding up to 3.46G. The dataset was delivered in the form of 54 zipped csv files organized by month and year. It took about 1 hour and 45 minutes to download the zipped files individually for each month, as there is no date range selector facility on the website. The files were unzipped and placed in Google drive, for easier access. I used Python to extract and merging the files in Jupyterlab. After merging the csv files, the resulting dataset contained about 28 million records, and takes up to 12.4G+ memory in Python. Every year, approximately 7 million flights are recorded from 23 carriers and 325 departure airports. The dataset also came with carrier names csv file, which we joined to the main dataset, using the carrier code. Every flight that occurred during that time period is represented by a row in the dataset, and each column has detailed information on every flight, including the airline, flight date, departure delay, and arrival delay, etc. More details about each variable can be seen in the data dictionary further down [3]. The time it took to load the dataset into Python on a machine with 16GB of RAM was 5 seconds. It took another 90 seconds to concatenate the data. The concatenating process was done in steps, by using a for loop, rather than merging all files at once, which would have obliterated the memory. \n"
   ]
  },
  {
   "cell_type": "code",
   "execution_count": null,
   "id": "8c2157e7-07c5-4db5-9245-fb53cd4d5aa2",
   "metadata": {},
   "outputs": [],
   "source": [
    "del df"
   ]
  },
  {
   "cell_type": "code",
   "execution_count": 59,
   "id": "5e2b42ae-fc86-40f1-bdf8-b2ccf8920724",
   "metadata": {
    "tags": []
   },
   "outputs": [],
   "source": [
    "# Import libraries\n",
    "import glob\n",
    "import pandas as pd\n",
    "import matplotlib.pyplot as plt\n",
    "import seaborn as sns\n",
    "import pickle\n",
    "import numpy as np\n",
    "import seaborn as sns \n",
    "from tabulate import tabulate\n",
    "\n",
    "%matplotlib inline"
   ]
  },
  {
   "cell_type": "code",
   "execution_count": 51,
   "id": "17f80092-5209-4d4d-90a8-670cb325c72d",
   "metadata": {},
   "outputs": [],
   "source": [
    "#formatting required\n",
    "pd.options.display.float_format = '{0:.2f}'.format"
   ]
  },
  {
   "cell_type": "markdown",
   "id": "38a57fc4-37c0-41e8-9916-af5b7259f50a",
   "metadata": {},
   "source": [
    "### Data Loading"
   ]
  },
  {
   "cell_type": "code",
   "execution_count": 52,
   "id": "beeb90f3-aff6-4b46-9eaa-cd707b33fbab",
   "metadata": {},
   "outputs": [],
   "source": [
    "pd.set_option(\"display.max.columns\", None) #display all columns of the data"
   ]
  },
  {
   "cell_type": "code",
   "execution_count": 3,
   "id": "333bf6cb-55e5-482c-9f8c-a58468a23f8e",
   "metadata": {
    "tags": []
   },
   "outputs": [],
   "source": [
    "!pip install gdown\n",
    "import gdown"
   ]
  },
  {
   "cell_type": "code",
   "execution_count": null,
   "id": "8af6f400-0063-4c86-bc4e-5bbeedde0982",
   "metadata": {
    "tags": []
   },
   "outputs": [],
   "source": [
    "! gdown --id 1rdXBMKJfm_17Xq2L08omEWGqSrCfMJzA #upload first file from Google drive\n",
    "df1 = pd.read_csv('merged_df1.csv') #read the first csv file"
   ]
  },
  {
   "cell_type": "code",
   "execution_count": null,
   "id": "64cc4373-ae42-4ca2-973c-2cff319bd821",
   "metadata": {},
   "outputs": [],
   "source": [
    "! gdown --id 1oGs56pdUdLxdTcacjZ52sAmRulZoQEuV\n",
    "df2 = pd.read_csv('merged_df2.csv')"
   ]
  },
  {
   "cell_type": "code",
   "execution_count": null,
   "id": "b2c96ea1-e65d-4b74-98f9-505a81939ed2",
   "metadata": {},
   "outputs": [],
   "source": [
    "! gdown --id 1MdYsPz0l61RKsyPbxofg2gKGWT6GjZqs\n",
    "df3 = pd.read_csv('merged_df3.csv')"
   ]
  },
  {
   "cell_type": "code",
   "execution_count": null,
   "id": "1788d6f5-e5ba-4a17-977a-8084090a4a7e",
   "metadata": {},
   "outputs": [],
   "source": [
    "df = pd.concat([df1,df2,df3]) #concatenate\n",
    "del (df1,df2,df3) #delete the individual files"
   ]
  },
  {
   "cell_type": "code",
   "execution_count": 24,
   "id": "ba7ccf7d-2979-42a2-9f7e-8d6572e395da",
   "metadata": {
    "tags": []
   },
   "outputs": [
    {
     "data": {
      "text/html": [
       "<div>\n",
       "<style scoped>\n",
       "    .dataframe tbody tr th:only-of-type {\n",
       "        vertical-align: middle;\n",
       "    }\n",
       "\n",
       "    .dataframe tbody tr th {\n",
       "        vertical-align: top;\n",
       "    }\n",
       "\n",
       "    .dataframe thead th {\n",
       "        text-align: right;\n",
       "    }\n",
       "</style>\n",
       "<table border=\"1\" class=\"dataframe\">\n",
       "  <thead>\n",
       "    <tr style=\"text-align: right;\">\n",
       "      <th></th>\n",
       "      <th>YEAR</th>\n",
       "      <th>MONTH</th>\n",
       "      <th>DAY_OF_MONTH</th>\n",
       "      <th>DAY_OF_WEEK</th>\n",
       "      <th>OP_UNIQUE_CARRIER</th>\n",
       "      <th>ORIGIN_AIRPORT_ID</th>\n",
       "      <th>ORIGIN</th>\n",
       "      <th>DEST_AIRPORT_ID</th>\n",
       "      <th>DEST</th>\n",
       "      <th>CRS_DEP_TIME</th>\n",
       "      <th>DEP_TIME</th>\n",
       "      <th>DEP_DELAY</th>\n",
       "      <th>TAXI_OUT</th>\n",
       "      <th>TAXI_IN</th>\n",
       "      <th>CRS_ARR_TIME</th>\n",
       "      <th>ARR_TIME</th>\n",
       "      <th>ARR_DELAY</th>\n",
       "      <th>CANCELLED</th>\n",
       "      <th>CANCELLATION_CODE</th>\n",
       "      <th>DIVERTED</th>\n",
       "      <th>CRS_ELAPSED_TIME</th>\n",
       "      <th>ACTUAL_ELAPSED_TIME</th>\n",
       "      <th>AIR_TIME</th>\n",
       "      <th>FLIGHTS</th>\n",
       "      <th>DISTANCE</th>\n",
       "      <th>CARRIER_DELAY</th>\n",
       "      <th>WEATHER_DELAY</th>\n",
       "      <th>NAS_DELAY</th>\n",
       "      <th>SECURITY_DELAY</th>\n",
       "      <th>LATE_AIRCRAFT_DELAY</th>\n",
       "      <th>DIV_REACHED_DEST</th>\n",
       "      <th>DIV_ACTUAL_ELAPSED_TIME</th>\n",
       "      <th>DIV_ARR_DELAY</th>\n",
       "    </tr>\n",
       "  </thead>\n",
       "  <tbody>\n",
       "    <tr>\n",
       "      <th>0</th>\n",
       "      <td>2018</td>\n",
       "      <td>1</td>\n",
       "      <td>22</td>\n",
       "      <td>1</td>\n",
       "      <td>UA</td>\n",
       "      <td>14771</td>\n",
       "      <td>SFO</td>\n",
       "      <td>10693</td>\n",
       "      <td>BNA</td>\n",
       "      <td>1110</td>\n",
       "      <td>1120.00</td>\n",
       "      <td>10.00</td>\n",
       "      <td>32.00</td>\n",
       "      <td>6.00</td>\n",
       "      <td>1731</td>\n",
       "      <td>1740.00</td>\n",
       "      <td>9.00</td>\n",
       "      <td>0.00</td>\n",
       "      <td>NaN</td>\n",
       "      <td>0.00</td>\n",
       "      <td>261.00</td>\n",
       "      <td>260.00</td>\n",
       "      <td>222.00</td>\n",
       "      <td>1.00</td>\n",
       "      <td>1969.00</td>\n",
       "      <td>NaN</td>\n",
       "      <td>NaN</td>\n",
       "      <td>NaN</td>\n",
       "      <td>NaN</td>\n",
       "      <td>NaN</td>\n",
       "      <td>NaN</td>\n",
       "      <td>NaN</td>\n",
       "      <td>NaN</td>\n",
       "    </tr>\n",
       "    <tr>\n",
       "      <th>1</th>\n",
       "      <td>2018</td>\n",
       "      <td>1</td>\n",
       "      <td>22</td>\n",
       "      <td>1</td>\n",
       "      <td>UA</td>\n",
       "      <td>12892</td>\n",
       "      <td>LAX</td>\n",
       "      <td>14679</td>\n",
       "      <td>SAN</td>\n",
       "      <td>2245</td>\n",
       "      <td>2233.00</td>\n",
       "      <td>-12.00</td>\n",
       "      <td>20.00</td>\n",
       "      <td>3.00</td>\n",
       "      <td>2338</td>\n",
       "      <td>2323.00</td>\n",
       "      <td>-15.00</td>\n",
       "      <td>0.00</td>\n",
       "      <td>NaN</td>\n",
       "      <td>0.00</td>\n",
       "      <td>53.00</td>\n",
       "      <td>50.00</td>\n",
       "      <td>27.00</td>\n",
       "      <td>1.00</td>\n",
       "      <td>109.00</td>\n",
       "      <td>NaN</td>\n",
       "      <td>NaN</td>\n",
       "      <td>NaN</td>\n",
       "      <td>NaN</td>\n",
       "      <td>NaN</td>\n",
       "      <td>NaN</td>\n",
       "      <td>NaN</td>\n",
       "      <td>NaN</td>\n",
       "    </tr>\n",
       "    <tr>\n",
       "      <th>2</th>\n",
       "      <td>2018</td>\n",
       "      <td>1</td>\n",
       "      <td>22</td>\n",
       "      <td>1</td>\n",
       "      <td>UA</td>\n",
       "      <td>11292</td>\n",
       "      <td>DEN</td>\n",
       "      <td>12266</td>\n",
       "      <td>IAH</td>\n",
       "      <td>1400</td>\n",
       "      <td>1357.00</td>\n",
       "      <td>-3.00</td>\n",
       "      <td>11.00</td>\n",
       "      <td>11.00</td>\n",
       "      <td>1721</td>\n",
       "      <td>1720.00</td>\n",
       "      <td>-1.00</td>\n",
       "      <td>0.00</td>\n",
       "      <td>NaN</td>\n",
       "      <td>0.00</td>\n",
       "      <td>141.00</td>\n",
       "      <td>143.00</td>\n",
       "      <td>121.00</td>\n",
       "      <td>1.00</td>\n",
       "      <td>862.00</td>\n",
       "      <td>NaN</td>\n",
       "      <td>NaN</td>\n",
       "      <td>NaN</td>\n",
       "      <td>NaN</td>\n",
       "      <td>NaN</td>\n",
       "      <td>NaN</td>\n",
       "      <td>NaN</td>\n",
       "      <td>NaN</td>\n",
       "    </tr>\n",
       "    <tr>\n",
       "      <th>3</th>\n",
       "      <td>2018</td>\n",
       "      <td>1</td>\n",
       "      <td>22</td>\n",
       "      <td>1</td>\n",
       "      <td>UA</td>\n",
       "      <td>11618</td>\n",
       "      <td>EWR</td>\n",
       "      <td>14679</td>\n",
       "      <td>SAN</td>\n",
       "      <td>1621</td>\n",
       "      <td>1614.00</td>\n",
       "      <td>-7.00</td>\n",
       "      <td>26.00</td>\n",
       "      <td>2.00</td>\n",
       "      <td>1935</td>\n",
       "      <td>1902.00</td>\n",
       "      <td>-33.00</td>\n",
       "      <td>0.00</td>\n",
       "      <td>NaN</td>\n",
       "      <td>0.00</td>\n",
       "      <td>374.00</td>\n",
       "      <td>348.00</td>\n",
       "      <td>320.00</td>\n",
       "      <td>1.00</td>\n",
       "      <td>2425.00</td>\n",
       "      <td>NaN</td>\n",
       "      <td>NaN</td>\n",
       "      <td>NaN</td>\n",
       "      <td>NaN</td>\n",
       "      <td>NaN</td>\n",
       "      <td>NaN</td>\n",
       "      <td>NaN</td>\n",
       "      <td>NaN</td>\n",
       "    </tr>\n",
       "    <tr>\n",
       "      <th>4</th>\n",
       "      <td>2018</td>\n",
       "      <td>1</td>\n",
       "      <td>22</td>\n",
       "      <td>1</td>\n",
       "      <td>UA</td>\n",
       "      <td>11298</td>\n",
       "      <td>DFW</td>\n",
       "      <td>11292</td>\n",
       "      <td>DEN</td>\n",
       "      <td>915</td>\n",
       "      <td>910.00</td>\n",
       "      <td>-5.00</td>\n",
       "      <td>18.00</td>\n",
       "      <td>7.00</td>\n",
       "      <td>1025</td>\n",
       "      <td>1015.00</td>\n",
       "      <td>-10.00</td>\n",
       "      <td>0.00</td>\n",
       "      <td>NaN</td>\n",
       "      <td>0.00</td>\n",
       "      <td>130.00</td>\n",
       "      <td>125.00</td>\n",
       "      <td>100.00</td>\n",
       "      <td>1.00</td>\n",
       "      <td>641.00</td>\n",
       "      <td>NaN</td>\n",
       "      <td>NaN</td>\n",
       "      <td>NaN</td>\n",
       "      <td>NaN</td>\n",
       "      <td>NaN</td>\n",
       "      <td>NaN</td>\n",
       "      <td>NaN</td>\n",
       "      <td>NaN</td>\n",
       "    </tr>\n",
       "  </tbody>\n",
       "</table>\n",
       "</div>"
      ],
      "text/plain": [
       "   YEAR  MONTH  DAY_OF_MONTH  DAY_OF_WEEK OP_UNIQUE_CARRIER  \\\n",
       "0  2018      1            22            1                UA   \n",
       "1  2018      1            22            1                UA   \n",
       "2  2018      1            22            1                UA   \n",
       "3  2018      1            22            1                UA   \n",
       "4  2018      1            22            1                UA   \n",
       "\n",
       "   ORIGIN_AIRPORT_ID ORIGIN  DEST_AIRPORT_ID DEST  CRS_DEP_TIME  DEP_TIME  \\\n",
       "0              14771    SFO            10693  BNA          1110   1120.00   \n",
       "1              12892    LAX            14679  SAN          2245   2233.00   \n",
       "2              11292    DEN            12266  IAH          1400   1357.00   \n",
       "3              11618    EWR            14679  SAN          1621   1614.00   \n",
       "4              11298    DFW            11292  DEN           915    910.00   \n",
       "\n",
       "   DEP_DELAY  TAXI_OUT  TAXI_IN  CRS_ARR_TIME  ARR_TIME  ARR_DELAY  CANCELLED  \\\n",
       "0      10.00     32.00     6.00          1731   1740.00       9.00       0.00   \n",
       "1     -12.00     20.00     3.00          2338   2323.00     -15.00       0.00   \n",
       "2      -3.00     11.00    11.00          1721   1720.00      -1.00       0.00   \n",
       "3      -7.00     26.00     2.00          1935   1902.00     -33.00       0.00   \n",
       "4      -5.00     18.00     7.00          1025   1015.00     -10.00       0.00   \n",
       "\n",
       "  CANCELLATION_CODE  DIVERTED  CRS_ELAPSED_TIME  ACTUAL_ELAPSED_TIME  \\\n",
       "0               NaN      0.00            261.00               260.00   \n",
       "1               NaN      0.00             53.00                50.00   \n",
       "2               NaN      0.00            141.00               143.00   \n",
       "3               NaN      0.00            374.00               348.00   \n",
       "4               NaN      0.00            130.00               125.00   \n",
       "\n",
       "   AIR_TIME  FLIGHTS  DISTANCE  CARRIER_DELAY  WEATHER_DELAY  NAS_DELAY  \\\n",
       "0    222.00     1.00   1969.00            NaN            NaN        NaN   \n",
       "1     27.00     1.00    109.00            NaN            NaN        NaN   \n",
       "2    121.00     1.00    862.00            NaN            NaN        NaN   \n",
       "3    320.00     1.00   2425.00            NaN            NaN        NaN   \n",
       "4    100.00     1.00    641.00            NaN            NaN        NaN   \n",
       "\n",
       "   SECURITY_DELAY  LATE_AIRCRAFT_DELAY  DIV_REACHED_DEST  \\\n",
       "0             NaN                  NaN               NaN   \n",
       "1             NaN                  NaN               NaN   \n",
       "2             NaN                  NaN               NaN   \n",
       "3             NaN                  NaN               NaN   \n",
       "4             NaN                  NaN               NaN   \n",
       "\n",
       "   DIV_ACTUAL_ELAPSED_TIME  DIV_ARR_DELAY  \n",
       "0                      NaN            NaN  \n",
       "1                      NaN            NaN  \n",
       "2                      NaN            NaN  \n",
       "3                      NaN            NaN  \n",
       "4                      NaN            NaN  "
      ]
     },
     "execution_count": 24,
     "metadata": {},
     "output_type": "execute_result"
    }
   ],
   "source": [
    "df.head()"
   ]
  },
  {
   "cell_type": "markdown",
   "id": "de374a2d-8f0f-4041-a950-6b0f784a9568",
   "metadata": {},
   "source": [
    "### Drop columns"
   ]
  },
  {
   "cell_type": "code",
   "execution_count": 64,
   "id": "b77c61f2-9112-49ab-8a2c-98cd3440d226",
   "metadata": {},
   "outputs": [],
   "source": [
    "df.drop(['FLIGHTS'], axis=1, inplace=True)"
   ]
  },
  {
   "cell_type": "markdown",
   "id": "d8959d21-bfce-4264-8a3c-357a6f6e04e4",
   "metadata": {
    "tags": []
   },
   "source": [
    "### Convert data types, to reduce dataset size"
   ]
  },
  {
   "cell_type": "code",
   "execution_count": 65,
   "id": "c604ecde-e508-4831-ab0e-12fd92ed0eca",
   "metadata": {},
   "outputs": [],
   "source": [
    "df['DEP_TIME'] = df['DEP_TIME'].astype('float32')\n",
    "df['DEP_DELAY'] = df['DEP_DELAY'].astype('float32')\n",
    "df['ARR_TIME'] = df['ARR_TIME'].astype('float32')\n",
    "df['ARR_DELAY'] = df['ARR_DELAY'].astype('float32')\n",
    "df['CANCELLED'] = df['CANCELLED'].astype('float16')\n",
    "df['DIVERTED'] = df['DIVERTED'].astype('float16')\n",
    "df['CRS_ELAPSED_TIME'] = df['CRS_ELAPSED_TIME'].astype('float32')\n",
    "df['DISTANCE'] = df['DISTANCE'].astype('float32')\n",
    "df['CARRIER_DELAY'] = df['CARRIER_DELAY'].astype('float32')\n",
    "df['WEATHER_DELAY'] = df['WEATHER_DELAY'].astype('float32')\n",
    "df['NAS_DELAY'] = df['NAS_DELAY'].astype('float32')\n",
    "df['SECURITY_DELAY'] = df['SECURITY_DELAY'].astype('float32')\n",
    "df['LATE_AIRCRAFT_DELAY'] = df['LATE_AIRCRAFT_DELAY'].astype('float32')\n",
    "df['DIV_REACHED_DEST'] = df['DIV_REACHED_DEST'].astype('float32')\n",
    "df['DIV_ARR_DELAY'] = df['DIV_ARR_DELAY'].astype('float32')"
   ]
  },
  {
   "cell_type": "code",
   "execution_count": 66,
   "id": "e14c19f9-8cdc-4ac4-8656-4136de90030c",
   "metadata": {},
   "outputs": [],
   "source": [
    "#convert variable dtypes to save memory\n",
    "df['YEAR'] = df['YEAR'].astype('int16')\n",
    "df['MONTH'] = df['MONTH'].astype('int16')\n",
    "df['DAY_OF_MONTH'] = df['DAY_OF_MONTH'].astype('int16')\n",
    "df['DAY_OF_WEEK'] = df['DAY_OF_WEEK'].astype('int16')\n",
    "df['ORIGIN_AIRPORT_ID'] = df['ORIGIN_AIRPORT_ID'].astype('int16')\n",
    "df['DEST_AIRPORT_ID'] = df['DEST_AIRPORT_ID'].astype('int16')\n",
    "df['CRS_DEP_TIME'] = df['CRS_DEP_TIME'].astype('int16')\n",
    "#df['DELAY'] = df['DELAY'].astype('int16')"
   ]
  },
  {
   "cell_type": "code",
   "execution_count": 67,
   "id": "b3edb4ad-6675-4f73-a6f9-c4a3db424965",
   "metadata": {},
   "outputs": [],
   "source": [
    "#create a new variable 'DELAY' which is 1 if delay time >= 15\n",
    "df['DELAY'] = 0\n",
    "df.loc[df['ARR_DELAY'] <= 0, 'DELAY'] = 1"
   ]
  },
  {
   "cell_type": "code",
   "execution_count": 68,
   "id": "57615374-21f1-40b5-8f98-622e4bd42d8b",
   "metadata": {},
   "outputs": [],
   "source": [
    "df['DELAY'] = df['DELAY'].astype('int8')"
   ]
  },
  {
   "cell_type": "markdown",
   "id": "5bb12a9e-d991-47fb-9479-0a7b6a3fa9f6",
   "metadata": {},
   "source": [
    "### Data Exploration"
   ]
  },
  {
   "cell_type": "code",
   "execution_count": 69,
   "id": "f04f2ac6-96b9-4ff7-8448-676d89e7c3b2",
   "metadata": {},
   "outputs": [
    {
     "data": {
      "text/plain": [
       "27992263"
      ]
     },
     "execution_count": 69,
     "metadata": {},
     "output_type": "execute_result"
    }
   ],
   "source": [
    "len(df.index)"
   ]
  },
  {
   "cell_type": "code",
   "execution_count": 70,
   "id": "fc44f224-9713-4519-a222-3a7a804dfb73",
   "metadata": {
    "tags": []
   },
   "outputs": [
    {
     "data": {
      "text/plain": [
       "(27992263, 33)"
      ]
     },
     "execution_count": 70,
     "metadata": {},
     "output_type": "execute_result"
    }
   ],
   "source": [
    "df.shape"
   ]
  },
  {
   "cell_type": "code",
   "execution_count": null,
   "id": "f75e1249-e30c-4438-a09f-bac9f6687561",
   "metadata": {
    "tags": []
   },
   "outputs": [],
   "source": [
    "#count duplicates\n",
    "count_rows_dedup_data = len(df.drop_duplicates().index)"
   ]
  },
  {
   "cell_type": "code",
   "execution_count": null,
   "id": "f4c8919e-9913-4ed1-96d7-0d50dad3ac33",
   "metadata": {
    "tags": []
   },
   "outputs": [],
   "source": [
    "count_rows_orig_data = len(df.index)\n",
    "dup_records = count_rows_orig_data - count_rows_dedup_data\n",
    "dup_records"
   ]
  },
  {
   "cell_type": "code",
   "execution_count": 71,
   "id": "a8d54108-8f21-46cc-b228-03dc84c918a9",
   "metadata": {},
   "outputs": [],
   "source": [
    "df.drop_duplicates(inplace = True)"
   ]
  },
  {
   "cell_type": "code",
   "execution_count": 72,
   "id": "51751c27-b71e-45fd-b2c5-119d4e1bb95a",
   "metadata": {},
   "outputs": [
    {
     "data": {
      "text/plain": [
       "27992249"
      ]
     },
     "execution_count": 72,
     "metadata": {},
     "output_type": "execute_result"
    }
   ],
   "source": [
    "len(df.index)"
   ]
  },
  {
   "cell_type": "code",
   "execution_count": 73,
   "id": "b7767dc9-8cb8-4753-b68c-d9a662690dbb",
   "metadata": {
    "tags": []
   },
   "outputs": [
    {
     "name": "stdout",
     "output_type": "stream",
     "text": [
      "<class 'pandas.core.frame.DataFrame'>\n",
      "Int64Index: 27992249 entries, 0 to 27992262\n",
      "Data columns (total 33 columns):\n",
      " #   Column                   Dtype  \n",
      "---  ------                   -----  \n",
      " 0   YEAR                     int16  \n",
      " 1   MONTH                    int16  \n",
      " 2   DAY_OF_MONTH             int16  \n",
      " 3   DAY_OF_WEEK              int16  \n",
      " 4   OP_UNIQUE_CARRIER        object \n",
      " 5   ORIGIN_AIRPORT_ID        int16  \n",
      " 6   ORIGIN                   object \n",
      " 7   DEST_AIRPORT_ID          int16  \n",
      " 8   DEST                     object \n",
      " 9   CRS_DEP_TIME             int16  \n",
      " 10  DEP_TIME                 float32\n",
      " 11  DEP_DELAY                float32\n",
      " 12  TAXI_OUT                 float64\n",
      " 13  TAXI_IN                  float64\n",
      " 14  CRS_ARR_TIME             int64  \n",
      " 15  ARR_TIME                 float32\n",
      " 16  ARR_DELAY                float32\n",
      " 17  CANCELLED                float16\n",
      " 18  CANCELLATION_CODE        object \n",
      " 19  DIVERTED                 float16\n",
      " 20  CRS_ELAPSED_TIME         float32\n",
      " 21  ACTUAL_ELAPSED_TIME      float64\n",
      " 22  AIR_TIME                 float64\n",
      " 23  DISTANCE                 float32\n",
      " 24  CARRIER_DELAY            float32\n",
      " 25  WEATHER_DELAY            float32\n",
      " 26  NAS_DELAY                float32\n",
      " 27  SECURITY_DELAY           float32\n",
      " 28  LATE_AIRCRAFT_DELAY      float32\n",
      " 29  DIV_REACHED_DEST         float32\n",
      " 30  DIV_ACTUAL_ELAPSED_TIME  float64\n",
      " 31  DIV_ARR_DELAY            float32\n",
      " 32  DELAY                    int8   \n",
      "dtypes: float16(2), float32(13), float64(5), int16(7), int64(1), int8(1), object(4)\n",
      "memory usage: 4.1+ GB\n"
     ]
    }
   ],
   "source": [
    "df.info()"
   ]
  },
  {
   "cell_type": "markdown",
   "id": "75ff4ce5-d354-46f8-840d-6292ce794250",
   "metadata": {},
   "source": [
    "### Summary Statistics"
   ]
  },
  {
   "cell_type": "code",
   "execution_count": 63,
   "id": "86f41195-f790-4d32-b106-0b8876097e5d",
   "metadata": {
    "tags": []
   },
   "outputs": [
    {
     "data": {
      "text/html": [
       "<div>\n",
       "<style scoped>\n",
       "    .dataframe tbody tr th:only-of-type {\n",
       "        vertical-align: middle;\n",
       "    }\n",
       "\n",
       "    .dataframe tbody tr th {\n",
       "        vertical-align: top;\n",
       "    }\n",
       "\n",
       "    .dataframe thead th {\n",
       "        text-align: right;\n",
       "    }\n",
       "</style>\n",
       "<table border=\"1\" class=\"dataframe\">\n",
       "  <thead>\n",
       "    <tr style=\"text-align: right;\">\n",
       "      <th></th>\n",
       "      <th>count</th>\n",
       "      <th>mean</th>\n",
       "      <th>std</th>\n",
       "      <th>min</th>\n",
       "      <th>25%</th>\n",
       "      <th>50%</th>\n",
       "      <th>75%</th>\n",
       "      <th>max</th>\n",
       "    </tr>\n",
       "  </thead>\n",
       "  <tbody>\n",
       "    <tr>\n",
       "      <th>YEAR</th>\n",
       "      <td>27992263.00000</td>\n",
       "      <td>2019.75518</td>\n",
       "      <td>1.31509</td>\n",
       "      <td>2018.00000</td>\n",
       "      <td>2019.00000</td>\n",
       "      <td>2020.00000</td>\n",
       "      <td>2021.00000</td>\n",
       "      <td>2022.00000</td>\n",
       "    </tr>\n",
       "    <tr>\n",
       "      <th>MONTH</th>\n",
       "      <td>27992263.00000</td>\n",
       "      <td>6.30430</td>\n",
       "      <td>3.48790</td>\n",
       "      <td>1.00000</td>\n",
       "      <td>3.00000</td>\n",
       "      <td>6.00000</td>\n",
       "      <td>9.00000</td>\n",
       "      <td>12.00000</td>\n",
       "    </tr>\n",
       "    <tr>\n",
       "      <th>DAY_OF_MONTH</th>\n",
       "      <td>27992263.00000</td>\n",
       "      <td>15.74488</td>\n",
       "      <td>8.77568</td>\n",
       "      <td>1.00000</td>\n",
       "      <td>8.00000</td>\n",
       "      <td>16.00000</td>\n",
       "      <td>23.00000</td>\n",
       "      <td>31.00000</td>\n",
       "    </tr>\n",
       "    <tr>\n",
       "      <th>DAY_OF_WEEK</th>\n",
       "      <td>27992263.00000</td>\n",
       "      <td>3.96953</td>\n",
       "      <td>2.00179</td>\n",
       "      <td>1.00000</td>\n",
       "      <td>2.00000</td>\n",
       "      <td>4.00000</td>\n",
       "      <td>6.00000</td>\n",
       "      <td>7.00000</td>\n",
       "    </tr>\n",
       "    <tr>\n",
       "      <th>ORIGIN_AIRPORT_ID</th>\n",
       "      <td>27992263.00000</td>\n",
       "      <td>12674.76844</td>\n",
       "      <td>1526.77632</td>\n",
       "      <td>10135.00000</td>\n",
       "      <td>11292.00000</td>\n",
       "      <td>12889.00000</td>\n",
       "      <td>14057.00000</td>\n",
       "      <td>16869.00000</td>\n",
       "    </tr>\n",
       "    <tr>\n",
       "      <th>DEST_AIRPORT_ID</th>\n",
       "      <td>27992263.00000</td>\n",
       "      <td>12674.75249</td>\n",
       "      <td>1526.77835</td>\n",
       "      <td>10135.00000</td>\n",
       "      <td>11292.00000</td>\n",
       "      <td>12889.00000</td>\n",
       "      <td>14057.00000</td>\n",
       "      <td>16869.00000</td>\n",
       "    </tr>\n",
       "    <tr>\n",
       "      <th>DEP_TIME</th>\n",
       "      <td>27256641.00000</td>\n",
       "      <td>1292.15906</td>\n",
       "      <td>486.28772</td>\n",
       "      <td>1.00000</td>\n",
       "      <td>919.00000</td>\n",
       "      <td>1323.00000</td>\n",
       "      <td>1736.00000</td>\n",
       "      <td>2400.00000</td>\n",
       "    </tr>\n",
       "    <tr>\n",
       "      <th>DEP_DELAY</th>\n",
       "      <td>27255215.00000</td>\n",
       "      <td>9.91136</td>\n",
       "      <td>45.05570</td>\n",
       "      <td>-1280.00000</td>\n",
       "      <td>-6.00000</td>\n",
       "      <td>-3.00000</td>\n",
       "      <td>5.00000</td>\n",
       "      <td>3890.00000</td>\n",
       "    </tr>\n",
       "    <tr>\n",
       "      <th>ARR_TIME</th>\n",
       "      <td>27233120.00000</td>\n",
       "      <td>1381.04871</td>\n",
       "      <td>520.51453</td>\n",
       "      <td>1.00000</td>\n",
       "      <td>1055.00000</td>\n",
       "      <td>1505.00000</td>\n",
       "      <td>1911.00000</td>\n",
       "      <td>2400.00000</td>\n",
       "    </tr>\n",
       "    <tr>\n",
       "      <th>ARR_DELAY</th>\n",
       "      <td>27176410.00000</td>\n",
       "      <td>3.46041</td>\n",
       "      <td>46.73980</td>\n",
       "      <td>-1290.00000</td>\n",
       "      <td>-16.00000</td>\n",
       "      <td>-7.00000</td>\n",
       "      <td>6.00000</td>\n",
       "      <td>3864.00000</td>\n",
       "    </tr>\n",
       "    <tr>\n",
       "      <th>CANCELLED</th>\n",
       "      <td>27992263.00000</td>\n",
       "      <td>nan</td>\n",
       "      <td>0.00000</td>\n",
       "      <td>0.00000</td>\n",
       "      <td>0.00000</td>\n",
       "      <td>0.00000</td>\n",
       "      <td>0.00000</td>\n",
       "      <td>1.00000</td>\n",
       "    </tr>\n",
       "    <tr>\n",
       "      <th>ACTUAL_ELAPSED_TIME</th>\n",
       "      <td>27176956.00000</td>\n",
       "      <td>134.17506</td>\n",
       "      <td>71.07230</td>\n",
       "      <td>-1228.00000</td>\n",
       "      <td>82.00000</td>\n",
       "      <td>117.00000</td>\n",
       "      <td>165.00000</td>\n",
       "      <td>1604.00000</td>\n",
       "    </tr>\n",
       "    <tr>\n",
       "      <th>AIR_TIME</th>\n",
       "      <td>27170032.00000</td>\n",
       "      <td>110.06371</td>\n",
       "      <td>69.31017</td>\n",
       "      <td>-1244.00000</td>\n",
       "      <td>60.00000</td>\n",
       "      <td>92.00000</td>\n",
       "      <td>140.00000</td>\n",
       "      <td>1557.00000</td>\n",
       "    </tr>\n",
       "    <tr>\n",
       "      <th>DISTANCE</th>\n",
       "      <td>27992263.00000</td>\n",
       "      <td>719.95050</td>\n",
       "      <td>562.92035</td>\n",
       "      <td>16.00000</td>\n",
       "      <td>362.00000</td>\n",
       "      <td>632.00000</td>\n",
       "      <td>1024.00000</td>\n",
       "      <td>5812.00000</td>\n",
       "    </tr>\n",
       "    <tr>\n",
       "      <th>CARRIER_DELAY</th>\n",
       "      <td>27992263.00000</td>\n",
       "      <td>3.95502</td>\n",
       "      <td>29.24179</td>\n",
       "      <td>0.00000</td>\n",
       "      <td>0.00000</td>\n",
       "      <td>0.00000</td>\n",
       "      <td>0.00000</td>\n",
       "      <td>3864.00000</td>\n",
       "    </tr>\n",
       "    <tr>\n",
       "      <th>WEATHER_DELAY</th>\n",
       "      <td>27992263.00000</td>\n",
       "      <td>0.65133</td>\n",
       "      <td>13.23543</td>\n",
       "      <td>0.00000</td>\n",
       "      <td>0.00000</td>\n",
       "      <td>0.00000</td>\n",
       "      <td>0.00000</td>\n",
       "      <td>2900.00000</td>\n",
       "    </tr>\n",
       "    <tr>\n",
       "      <th>NAS_DELAY</th>\n",
       "      <td>27992263.00000</td>\n",
       "      <td>2.42716</td>\n",
       "      <td>15.06744</td>\n",
       "      <td>0.00000</td>\n",
       "      <td>0.00000</td>\n",
       "      <td>0.00000</td>\n",
       "      <td>0.00000</td>\n",
       "      <td>1741.00000</td>\n",
       "    </tr>\n",
       "    <tr>\n",
       "      <th>SECURITY_DELAY</th>\n",
       "      <td>27992263.00000</td>\n",
       "      <td>0.02206</td>\n",
       "      <td>1.45283</td>\n",
       "      <td>0.00000</td>\n",
       "      <td>0.00000</td>\n",
       "      <td>0.00000</td>\n",
       "      <td>0.00000</td>\n",
       "      <td>1245.00000</td>\n",
       "    </tr>\n",
       "    <tr>\n",
       "      <th>LATE_AIRCRAFT_DELAY</th>\n",
       "      <td>27992263.00000</td>\n",
       "      <td>4.31552</td>\n",
       "      <td>23.71879</td>\n",
       "      <td>0.00000</td>\n",
       "      <td>0.00000</td>\n",
       "      <td>0.00000</td>\n",
       "      <td>0.00000</td>\n",
       "      <td>2962.00000</td>\n",
       "    </tr>\n",
       "    <tr>\n",
       "      <th>DELAY</th>\n",
       "      <td>27992263.00000</td>\n",
       "      <td>0.65363</td>\n",
       "      <td>0.47581</td>\n",
       "      <td>0.00000</td>\n",
       "      <td>0.00000</td>\n",
       "      <td>1.00000</td>\n",
       "      <td>1.00000</td>\n",
       "      <td>1.00000</td>\n",
       "    </tr>\n",
       "  </tbody>\n",
       "</table>\n",
       "</div>"
      ],
      "text/plain": [
       "                              count         mean         std          min  \\\n",
       "YEAR                 27992263.00000   2019.75518     1.31509   2018.00000   \n",
       "MONTH                27992263.00000      6.30430     3.48790      1.00000   \n",
       "DAY_OF_MONTH         27992263.00000     15.74488     8.77568      1.00000   \n",
       "DAY_OF_WEEK          27992263.00000      3.96953     2.00179      1.00000   \n",
       "ORIGIN_AIRPORT_ID    27992263.00000  12674.76844  1526.77632  10135.00000   \n",
       "DEST_AIRPORT_ID      27992263.00000  12674.75249  1526.77835  10135.00000   \n",
       "DEP_TIME             27256641.00000   1292.15906   486.28772      1.00000   \n",
       "DEP_DELAY            27255215.00000      9.91136    45.05570  -1280.00000   \n",
       "ARR_TIME             27233120.00000   1381.04871   520.51453      1.00000   \n",
       "ARR_DELAY            27176410.00000      3.46041    46.73980  -1290.00000   \n",
       "CANCELLED            27992263.00000          nan     0.00000      0.00000   \n",
       "ACTUAL_ELAPSED_TIME  27176956.00000    134.17506    71.07230  -1228.00000   \n",
       "AIR_TIME             27170032.00000    110.06371    69.31017  -1244.00000   \n",
       "DISTANCE             27992263.00000    719.95050   562.92035     16.00000   \n",
       "CARRIER_DELAY        27992263.00000      3.95502    29.24179      0.00000   \n",
       "WEATHER_DELAY        27992263.00000      0.65133    13.23543      0.00000   \n",
       "NAS_DELAY            27992263.00000      2.42716    15.06744      0.00000   \n",
       "SECURITY_DELAY       27992263.00000      0.02206     1.45283      0.00000   \n",
       "LATE_AIRCRAFT_DELAY  27992263.00000      4.31552    23.71879      0.00000   \n",
       "DELAY                27992263.00000      0.65363     0.47581      0.00000   \n",
       "\n",
       "                             25%          50%          75%          max  \n",
       "YEAR                  2019.00000   2020.00000   2021.00000   2022.00000  \n",
       "MONTH                    3.00000      6.00000      9.00000     12.00000  \n",
       "DAY_OF_MONTH             8.00000     16.00000     23.00000     31.00000  \n",
       "DAY_OF_WEEK              2.00000      4.00000      6.00000      7.00000  \n",
       "ORIGIN_AIRPORT_ID    11292.00000  12889.00000  14057.00000  16869.00000  \n",
       "DEST_AIRPORT_ID      11292.00000  12889.00000  14057.00000  16869.00000  \n",
       "DEP_TIME               919.00000   1323.00000   1736.00000   2400.00000  \n",
       "DEP_DELAY               -6.00000     -3.00000      5.00000   3890.00000  \n",
       "ARR_TIME              1055.00000   1505.00000   1911.00000   2400.00000  \n",
       "ARR_DELAY              -16.00000     -7.00000      6.00000   3864.00000  \n",
       "CANCELLED                0.00000      0.00000      0.00000      1.00000  \n",
       "ACTUAL_ELAPSED_TIME     82.00000    117.00000    165.00000   1604.00000  \n",
       "AIR_TIME                60.00000     92.00000    140.00000   1557.00000  \n",
       "DISTANCE               362.00000    632.00000   1024.00000   5812.00000  \n",
       "CARRIER_DELAY            0.00000      0.00000      0.00000   3864.00000  \n",
       "WEATHER_DELAY            0.00000      0.00000      0.00000   2900.00000  \n",
       "NAS_DELAY                0.00000      0.00000      0.00000   1741.00000  \n",
       "SECURITY_DELAY           0.00000      0.00000      0.00000   1245.00000  \n",
       "LATE_AIRCRAFT_DELAY      0.00000      0.00000      0.00000   2962.00000  \n",
       "DELAY                    0.00000      1.00000      1.00000      1.00000  "
      ]
     },
     "execution_count": 63,
     "metadata": {},
     "output_type": "execute_result"
    }
   ],
   "source": [
    "#df.describe().apply(lambda s: s.apply(lambda x: format(x, 'g'))) #don't use scientific notation\n",
    "#summary_stats = df.describe(include='all').apply(lambda s: s.apply('{0:.5f}'.format))\n",
    "summary_stats = df.describe().apply(lambda s: s.apply('{0:.5f}'.format))\n",
    "summary_stats.transpose()"
   ]
  },
  {
   "cell_type": "code",
   "execution_count": null,
   "id": "fada817d-bed8-4273-9c87-7c2009758e32",
   "metadata": {
    "tags": []
   },
   "outputs": [],
   "source": [
    "#print rows where the specific varioble is less than 0\n",
    "#df[df['ACTUAL_ELAPSED_TIME'] < 0]"
   ]
  },
  {
   "cell_type": "code",
   "execution_count": 74,
   "id": "c1a8bc27-ef3a-4fd3-9770-39bfd5f48063",
   "metadata": {},
   "outputs": [],
   "source": [
    "#df = df[ (df['ACTUAL_ELAPSED_TIME'] < 0) | (df['ACTUAL_ELAPSED_TIME'] < 0) | (df['AIR_TIME'] < 0)]\n",
    "#df = df[(df['ACTUAL_ELAPSED_TIME'] >= 0)]\n",
    "df.drop(df[df['ACTUAL_ELAPSED_TIME'] < 0].index, inplace = True)"
   ]
  },
  {
   "cell_type": "code",
   "execution_count": 24,
   "id": "719482ff-f53c-41a0-8eca-bcb72dcb64ec",
   "metadata": {},
   "outputs": [
    {
     "data": {
      "text/html": [
       "<div>\n",
       "<style scoped>\n",
       "    .dataframe tbody tr th:only-of-type {\n",
       "        vertical-align: middle;\n",
       "    }\n",
       "\n",
       "    .dataframe tbody tr th {\n",
       "        vertical-align: top;\n",
       "    }\n",
       "\n",
       "    .dataframe thead th {\n",
       "        text-align: right;\n",
       "    }\n",
       "</style>\n",
       "<table border=\"1\" class=\"dataframe\">\n",
       "  <thead>\n",
       "    <tr style=\"text-align: right;\">\n",
       "      <th></th>\n",
       "      <th>YEAR</th>\n",
       "      <th>MONTH</th>\n",
       "      <th>DAY_OF_MONTH</th>\n",
       "      <th>DAY_OF_WEEK</th>\n",
       "      <th>OP_UNIQUE_CARRIER</th>\n",
       "      <th>ORIGIN_AIRPORT_ID</th>\n",
       "      <th>ORIGIN</th>\n",
       "      <th>DEST_AIRPORT_ID</th>\n",
       "      <th>DEST</th>\n",
       "      <th>DEP_TIME</th>\n",
       "      <th>DEP_DELAY</th>\n",
       "      <th>ARR_TIME</th>\n",
       "      <th>ARR_DELAY</th>\n",
       "      <th>CANCELLED</th>\n",
       "      <th>CANCELLATION_CODE</th>\n",
       "      <th>DIVERTED</th>\n",
       "      <th>ACTUAL_ELAPSED_TIME</th>\n",
       "      <th>AIR_TIME</th>\n",
       "      <th>DISTANCE</th>\n",
       "      <th>CARRIER_DELAY</th>\n",
       "      <th>WEATHER_DELAY</th>\n",
       "      <th>NAS_DELAY</th>\n",
       "      <th>SECURITY_DELAY</th>\n",
       "      <th>LATE_AIRCRAFT_DELAY</th>\n",
       "      <th>DIV_REACHED_DEST</th>\n",
       "      <th>DIV_ACTUAL_ELAPSED_TIME</th>\n",
       "      <th>DIV_ARR_DELAY</th>\n",
       "      <th>DELAY</th>\n",
       "    </tr>\n",
       "  </thead>\n",
       "  <tbody>\n",
       "    <tr>\n",
       "      <th>9</th>\n",
       "      <td>2018</td>\n",
       "      <td>1</td>\n",
       "      <td>22</td>\n",
       "      <td>1</td>\n",
       "      <td>UA</td>\n",
       "      <td>13930</td>\n",
       "      <td>ORD</td>\n",
       "      <td>11618</td>\n",
       "      <td>EWR</td>\n",
       "      <td>2325.00</td>\n",
       "      <td>120.00</td>\n",
       "      <td>233.00</td>\n",
       "      <td>112.00</td>\n",
       "      <td>0.00</td>\n",
       "      <td>NaN</td>\n",
       "      <td>0.00</td>\n",
       "      <td>128.00</td>\n",
       "      <td>87.00</td>\n",
       "      <td>719.00</td>\n",
       "      <td>0.00</td>\n",
       "      <td>0.00</td>\n",
       "      <td>0.00</td>\n",
       "      <td>0.00</td>\n",
       "      <td>112.00</td>\n",
       "      <td>NaN</td>\n",
       "      <td>NaN</td>\n",
       "      <td>NaN</td>\n",
       "      <td>0</td>\n",
       "    </tr>\n",
       "    <tr>\n",
       "      <th>12</th>\n",
       "      <td>2018</td>\n",
       "      <td>1</td>\n",
       "      <td>22</td>\n",
       "      <td>1</td>\n",
       "      <td>UA</td>\n",
       "      <td>13930</td>\n",
       "      <td>ORD</td>\n",
       "      <td>13495</td>\n",
       "      <td>MSY</td>\n",
       "      <td>1310.00</td>\n",
       "      <td>36.00</td>\n",
       "      <td>1541.00</td>\n",
       "      <td>43.00</td>\n",
       "      <td>0.00</td>\n",
       "      <td>NaN</td>\n",
       "      <td>0.00</td>\n",
       "      <td>151.00</td>\n",
       "      <td>130.00</td>\n",
       "      <td>837.00</td>\n",
       "      <td>36.00</td>\n",
       "      <td>0.00</td>\n",
       "      <td>7.00</td>\n",
       "      <td>0.00</td>\n",
       "      <td>0.00</td>\n",
       "      <td>NaN</td>\n",
       "      <td>NaN</td>\n",
       "      <td>NaN</td>\n",
       "      <td>0</td>\n",
       "    </tr>\n",
       "    <tr>\n",
       "      <th>14</th>\n",
       "      <td>2018</td>\n",
       "      <td>1</td>\n",
       "      <td>22</td>\n",
       "      <td>1</td>\n",
       "      <td>UA</td>\n",
       "      <td>11292</td>\n",
       "      <td>DEN</td>\n",
       "      <td>14107</td>\n",
       "      <td>PHX</td>\n",
       "      <td>1552.00</td>\n",
       "      <td>37.00</td>\n",
       "      <td>1730.00</td>\n",
       "      <td>20.00</td>\n",
       "      <td>0.00</td>\n",
       "      <td>NaN</td>\n",
       "      <td>0.00</td>\n",
       "      <td>98.00</td>\n",
       "      <td>84.00</td>\n",
       "      <td>602.00</td>\n",
       "      <td>0.00</td>\n",
       "      <td>0.00</td>\n",
       "      <td>20.00</td>\n",
       "      <td>0.00</td>\n",
       "      <td>0.00</td>\n",
       "      <td>NaN</td>\n",
       "      <td>NaN</td>\n",
       "      <td>NaN</td>\n",
       "      <td>0</td>\n",
       "    </tr>\n",
       "    <tr>\n",
       "      <th>26</th>\n",
       "      <td>2018</td>\n",
       "      <td>1</td>\n",
       "      <td>22</td>\n",
       "      <td>1</td>\n",
       "      <td>UA</td>\n",
       "      <td>11603</td>\n",
       "      <td>EUG</td>\n",
       "      <td>14771</td>\n",
       "      <td>SFO</td>\n",
       "      <td>858.00</td>\n",
       "      <td>58.00</td>\n",
       "      <td>1030.00</td>\n",
       "      <td>48.00</td>\n",
       "      <td>0.00</td>\n",
       "      <td>NaN</td>\n",
       "      <td>0.00</td>\n",
       "      <td>92.00</td>\n",
       "      <td>76.00</td>\n",
       "      <td>451.00</td>\n",
       "      <td>0.00</td>\n",
       "      <td>0.00</td>\n",
       "      <td>48.00</td>\n",
       "      <td>0.00</td>\n",
       "      <td>0.00</td>\n",
       "      <td>NaN</td>\n",
       "      <td>NaN</td>\n",
       "      <td>NaN</td>\n",
       "      <td>0</td>\n",
       "    </tr>\n",
       "    <tr>\n",
       "      <th>36</th>\n",
       "      <td>2018</td>\n",
       "      <td>1</td>\n",
       "      <td>22</td>\n",
       "      <td>1</td>\n",
       "      <td>UA</td>\n",
       "      <td>11618</td>\n",
       "      <td>EWR</td>\n",
       "      <td>15304</td>\n",
       "      <td>TPA</td>\n",
       "      <td>1530.00</td>\n",
       "      <td>30.00</td>\n",
       "      <td>1820.00</td>\n",
       "      <td>18.00</td>\n",
       "      <td>0.00</td>\n",
       "      <td>NaN</td>\n",
       "      <td>0.00</td>\n",
       "      <td>170.00</td>\n",
       "      <td>140.00</td>\n",
       "      <td>997.00</td>\n",
       "      <td>18.00</td>\n",
       "      <td>0.00</td>\n",
       "      <td>0.00</td>\n",
       "      <td>0.00</td>\n",
       "      <td>0.00</td>\n",
       "      <td>NaN</td>\n",
       "      <td>NaN</td>\n",
       "      <td>NaN</td>\n",
       "      <td>0</td>\n",
       "    </tr>\n",
       "    <tr>\n",
       "      <th>...</th>\n",
       "      <td>...</td>\n",
       "      <td>...</td>\n",
       "      <td>...</td>\n",
       "      <td>...</td>\n",
       "      <td>...</td>\n",
       "      <td>...</td>\n",
       "      <td>...</td>\n",
       "      <td>...</td>\n",
       "      <td>...</td>\n",
       "      <td>...</td>\n",
       "      <td>...</td>\n",
       "      <td>...</td>\n",
       "      <td>...</td>\n",
       "      <td>...</td>\n",
       "      <td>...</td>\n",
       "      <td>...</td>\n",
       "      <td>...</td>\n",
       "      <td>...</td>\n",
       "      <td>...</td>\n",
       "      <td>...</td>\n",
       "      <td>...</td>\n",
       "      <td>...</td>\n",
       "      <td>...</td>\n",
       "      <td>...</td>\n",
       "      <td>...</td>\n",
       "      <td>...</td>\n",
       "      <td>...</td>\n",
       "      <td>...</td>\n",
       "    </tr>\n",
       "    <tr>\n",
       "      <th>27992178</th>\n",
       "      <td>2022</td>\n",
       "      <td>6</td>\n",
       "      <td>26</td>\n",
       "      <td>7</td>\n",
       "      <td>DL</td>\n",
       "      <td>13198</td>\n",
       "      <td>MCI</td>\n",
       "      <td>11433</td>\n",
       "      <td>DTW</td>\n",
       "      <td>722.00</td>\n",
       "      <td>52.00</td>\n",
       "      <td>956.00</td>\n",
       "      <td>28.00</td>\n",
       "      <td>0.00</td>\n",
       "      <td>NaN</td>\n",
       "      <td>0.00</td>\n",
       "      <td>94.00</td>\n",
       "      <td>77.00</td>\n",
       "      <td>629.00</td>\n",
       "      <td>28.00</td>\n",
       "      <td>0.00</td>\n",
       "      <td>0.00</td>\n",
       "      <td>0.00</td>\n",
       "      <td>0.00</td>\n",
       "      <td>NaN</td>\n",
       "      <td>NaN</td>\n",
       "      <td>NaN</td>\n",
       "      <td>0</td>\n",
       "    </tr>\n",
       "    <tr>\n",
       "      <th>27992203</th>\n",
       "      <td>2022</td>\n",
       "      <td>6</td>\n",
       "      <td>16</td>\n",
       "      <td>4</td>\n",
       "      <td>DL</td>\n",
       "      <td>14747</td>\n",
       "      <td>SEA</td>\n",
       "      <td>14869</td>\n",
       "      <td>SLC</td>\n",
       "      <td>701.00</td>\n",
       "      <td>31.00</td>\n",
       "      <td>957.00</td>\n",
       "      <td>25.00</td>\n",
       "      <td>0.00</td>\n",
       "      <td>NaN</td>\n",
       "      <td>0.00</td>\n",
       "      <td>116.00</td>\n",
       "      <td>91.00</td>\n",
       "      <td>689.00</td>\n",
       "      <td>25.00</td>\n",
       "      <td>0.00</td>\n",
       "      <td>0.00</td>\n",
       "      <td>0.00</td>\n",
       "      <td>0.00</td>\n",
       "      <td>NaN</td>\n",
       "      <td>NaN</td>\n",
       "      <td>NaN</td>\n",
       "      <td>0</td>\n",
       "    </tr>\n",
       "    <tr>\n",
       "      <th>27992214</th>\n",
       "      <td>2022</td>\n",
       "      <td>6</td>\n",
       "      <td>27</td>\n",
       "      <td>1</td>\n",
       "      <td>DL</td>\n",
       "      <td>14747</td>\n",
       "      <td>SEA</td>\n",
       "      <td>14869</td>\n",
       "      <td>SLC</td>\n",
       "      <td>711.00</td>\n",
       "      <td>41.00</td>\n",
       "      <td>1007.00</td>\n",
       "      <td>35.00</td>\n",
       "      <td>0.00</td>\n",
       "      <td>NaN</td>\n",
       "      <td>0.00</td>\n",
       "      <td>116.00</td>\n",
       "      <td>85.00</td>\n",
       "      <td>689.00</td>\n",
       "      <td>35.00</td>\n",
       "      <td>0.00</td>\n",
       "      <td>0.00</td>\n",
       "      <td>0.00</td>\n",
       "      <td>0.00</td>\n",
       "      <td>NaN</td>\n",
       "      <td>NaN</td>\n",
       "      <td>NaN</td>\n",
       "      <td>0</td>\n",
       "    </tr>\n",
       "    <tr>\n",
       "      <th>27992223</th>\n",
       "      <td>2022</td>\n",
       "      <td>6</td>\n",
       "      <td>3</td>\n",
       "      <td>5</td>\n",
       "      <td>DL</td>\n",
       "      <td>14869</td>\n",
       "      <td>SLC</td>\n",
       "      <td>14057</td>\n",
       "      <td>PDX</td>\n",
       "      <td>1210.00</td>\n",
       "      <td>25.00</td>\n",
       "      <td>1258.00</td>\n",
       "      <td>22.00</td>\n",
       "      <td>0.00</td>\n",
       "      <td>NaN</td>\n",
       "      <td>0.00</td>\n",
       "      <td>108.00</td>\n",
       "      <td>92.00</td>\n",
       "      <td>630.00</td>\n",
       "      <td>22.00</td>\n",
       "      <td>0.00</td>\n",
       "      <td>0.00</td>\n",
       "      <td>0.00</td>\n",
       "      <td>0.00</td>\n",
       "      <td>NaN</td>\n",
       "      <td>NaN</td>\n",
       "      <td>NaN</td>\n",
       "      <td>0</td>\n",
       "    </tr>\n",
       "    <tr>\n",
       "      <th>27992238</th>\n",
       "      <td>2022</td>\n",
       "      <td>6</td>\n",
       "      <td>11</td>\n",
       "      <td>6</td>\n",
       "      <td>DL</td>\n",
       "      <td>14057</td>\n",
       "      <td>PDX</td>\n",
       "      <td>14869</td>\n",
       "      <td>SLC</td>\n",
       "      <td>1402.00</td>\n",
       "      <td>50.00</td>\n",
       "      <td>1650.00</td>\n",
       "      <td>46.00</td>\n",
       "      <td>0.00</td>\n",
       "      <td>NaN</td>\n",
       "      <td>0.00</td>\n",
       "      <td>108.00</td>\n",
       "      <td>81.00</td>\n",
       "      <td>630.00</td>\n",
       "      <td>35.00</td>\n",
       "      <td>0.00</td>\n",
       "      <td>0.00</td>\n",
       "      <td>0.00</td>\n",
       "      <td>11.00</td>\n",
       "      <td>NaN</td>\n",
       "      <td>NaN</td>\n",
       "      <td>NaN</td>\n",
       "      <td>0</td>\n",
       "    </tr>\n",
       "  </tbody>\n",
       "</table>\n",
       "<p>4770023 rows × 28 columns</p>\n",
       "</div>"
      ],
      "text/plain": [
       "          YEAR  MONTH  DAY_OF_MONTH  DAY_OF_WEEK OP_UNIQUE_CARRIER  \\\n",
       "9         2018      1            22            1                UA   \n",
       "12        2018      1            22            1                UA   \n",
       "14        2018      1            22            1                UA   \n",
       "26        2018      1            22            1                UA   \n",
       "36        2018      1            22            1                UA   \n",
       "...        ...    ...           ...          ...               ...   \n",
       "27992178  2022      6            26            7                DL   \n",
       "27992203  2022      6            16            4                DL   \n",
       "27992214  2022      6            27            1                DL   \n",
       "27992223  2022      6             3            5                DL   \n",
       "27992238  2022      6            11            6                DL   \n",
       "\n",
       "          ORIGIN_AIRPORT_ID ORIGIN  DEST_AIRPORT_ID DEST  DEP_TIME  DEP_DELAY  \\\n",
       "9                     13930    ORD            11618  EWR   2325.00     120.00   \n",
       "12                    13930    ORD            13495  MSY   1310.00      36.00   \n",
       "14                    11292    DEN            14107  PHX   1552.00      37.00   \n",
       "26                    11603    EUG            14771  SFO    858.00      58.00   \n",
       "36                    11618    EWR            15304  TPA   1530.00      30.00   \n",
       "...                     ...    ...              ...  ...       ...        ...   \n",
       "27992178              13198    MCI            11433  DTW    722.00      52.00   \n",
       "27992203              14747    SEA            14869  SLC    701.00      31.00   \n",
       "27992214              14747    SEA            14869  SLC    711.00      41.00   \n",
       "27992223              14869    SLC            14057  PDX   1210.00      25.00   \n",
       "27992238              14057    PDX            14869  SLC   1402.00      50.00   \n",
       "\n",
       "          ARR_TIME  ARR_DELAY  CANCELLED CANCELLATION_CODE  DIVERTED  \\\n",
       "9           233.00     112.00       0.00               NaN      0.00   \n",
       "12         1541.00      43.00       0.00               NaN      0.00   \n",
       "14         1730.00      20.00       0.00               NaN      0.00   \n",
       "26         1030.00      48.00       0.00               NaN      0.00   \n",
       "36         1820.00      18.00       0.00               NaN      0.00   \n",
       "...            ...        ...        ...               ...       ...   \n",
       "27992178    956.00      28.00       0.00               NaN      0.00   \n",
       "27992203    957.00      25.00       0.00               NaN      0.00   \n",
       "27992214   1007.00      35.00       0.00               NaN      0.00   \n",
       "27992223   1258.00      22.00       0.00               NaN      0.00   \n",
       "27992238   1650.00      46.00       0.00               NaN      0.00   \n",
       "\n",
       "          ACTUAL_ELAPSED_TIME  AIR_TIME  DISTANCE  CARRIER_DELAY  \\\n",
       "9                      128.00     87.00    719.00           0.00   \n",
       "12                     151.00    130.00    837.00          36.00   \n",
       "14                      98.00     84.00    602.00           0.00   \n",
       "26                      92.00     76.00    451.00           0.00   \n",
       "36                     170.00    140.00    997.00          18.00   \n",
       "...                       ...       ...       ...            ...   \n",
       "27992178                94.00     77.00    629.00          28.00   \n",
       "27992203               116.00     91.00    689.00          25.00   \n",
       "27992214               116.00     85.00    689.00          35.00   \n",
       "27992223               108.00     92.00    630.00          22.00   \n",
       "27992238               108.00     81.00    630.00          35.00   \n",
       "\n",
       "          WEATHER_DELAY  NAS_DELAY  SECURITY_DELAY  LATE_AIRCRAFT_DELAY  \\\n",
       "9                  0.00       0.00            0.00               112.00   \n",
       "12                 0.00       7.00            0.00                 0.00   \n",
       "14                 0.00      20.00            0.00                 0.00   \n",
       "26                 0.00      48.00            0.00                 0.00   \n",
       "36                 0.00       0.00            0.00                 0.00   \n",
       "...                 ...        ...             ...                  ...   \n",
       "27992178           0.00       0.00            0.00                 0.00   \n",
       "27992203           0.00       0.00            0.00                 0.00   \n",
       "27992214           0.00       0.00            0.00                 0.00   \n",
       "27992223           0.00       0.00            0.00                 0.00   \n",
       "27992238           0.00       0.00            0.00                11.00   \n",
       "\n",
       "          DIV_REACHED_DEST  DIV_ACTUAL_ELAPSED_TIME  DIV_ARR_DELAY  DELAY  \n",
       "9                      NaN                      NaN            NaN      0  \n",
       "12                     NaN                      NaN            NaN      0  \n",
       "14                     NaN                      NaN            NaN      0  \n",
       "26                     NaN                      NaN            NaN      0  \n",
       "36                     NaN                      NaN            NaN      0  \n",
       "...                    ...                      ...            ...    ...  \n",
       "27992178               NaN                      NaN            NaN      0  \n",
       "27992203               NaN                      NaN            NaN      0  \n",
       "27992214               NaN                      NaN            NaN      0  \n",
       "27992223               NaN                      NaN            NaN      0  \n",
       "27992238               NaN                      NaN            NaN      0  \n",
       "\n",
       "[4770023 rows x 28 columns]"
      ]
     },
     "execution_count": 24,
     "metadata": {},
     "output_type": "execute_result"
    }
   ],
   "source": [
    "#print rows where the specific varioble is less than 0\n",
    "#df[df['CARRIER_DELAY'] >= 0]"
   ]
  },
  {
   "cell_type": "markdown",
   "id": "f6668428-8c63-4e51-a6df-4009697c4708",
   "metadata": {},
   "source": [
    "### Drop the rest of the variables"
   ]
  },
  {
   "cell_type": "code",
   "execution_count": 75,
   "id": "09ffc123-6629-43c6-87e3-22c9dca8e52b",
   "metadata": {
    "tags": []
   },
   "outputs": [],
   "source": [
    "df.drop(['CRS_DEP_TIME','CRS_ARR_TIME','CRS_ELAPSED_TIME','TAXI_OUT','TAXI_IN','CARRIER_DELAY','WEATHER_DELAY','NAS_DELAY','SECURITY_DELAY','LATE_AIRCRAFT_DELAY','DIV_REACHED_DEST','DIV_ARR_DELAY','DIV_ACTUAL_ELAPSED_TIME','ORIGIN','DEST','CANCELLATION_CODE','ORIGIN','DEST','CANCELLATION_CODE'], axis=1, inplace=True)\n",
    "#df.drop(['ORIGIN','DEST','CANCELLATION_CODE'],axis=1, inplace=True)\n",
    "#df.drop(['ORIGIN','DEST','CANCELLATION_CODE'],axis=1, inplace=True)"
   ]
  },
  {
   "cell_type": "code",
   "execution_count": 76,
   "id": "a1bde26c-7950-4613-b7b7-a5e126b0b303",
   "metadata": {},
   "outputs": [
    {
     "name": "stdout",
     "output_type": "stream",
     "text": [
      "<class 'pandas.core.frame.DataFrame'>\n",
      "Int64Index: 27992248 entries, 0 to 27992262\n",
      "Data columns (total 17 columns):\n",
      " #   Column               Dtype  \n",
      "---  ------               -----  \n",
      " 0   YEAR                 int16  \n",
      " 1   MONTH                int16  \n",
      " 2   DAY_OF_MONTH         int16  \n",
      " 3   DAY_OF_WEEK          int16  \n",
      " 4   OP_UNIQUE_CARRIER    object \n",
      " 5   ORIGIN_AIRPORT_ID    int16  \n",
      " 6   DEST_AIRPORT_ID      int16  \n",
      " 7   DEP_TIME             float32\n",
      " 8   DEP_DELAY            float32\n",
      " 9   ARR_TIME             float32\n",
      " 10  ARR_DELAY            float32\n",
      " 11  CANCELLED            float16\n",
      " 12  DIVERTED             float16\n",
      " 13  ACTUAL_ELAPSED_TIME  float64\n",
      " 14  AIR_TIME             float64\n",
      " 15  DISTANCE             float32\n",
      " 16  DELAY                int8   \n",
      "dtypes: float16(2), float32(5), float64(2), int16(6), int8(1), object(1)\n",
      "memory usage: 1.8+ GB\n"
     ]
    }
   ],
   "source": [
    "df.info()"
   ]
  },
  {
   "cell_type": "code",
   "execution_count": 77,
   "id": "e5357370-f07b-4ac8-bf91-1e606d24ffa2",
   "metadata": {},
   "outputs": [
    {
     "data": {
      "text/html": [
       "<div>\n",
       "<style scoped>\n",
       "    .dataframe tbody tr th:only-of-type {\n",
       "        vertical-align: middle;\n",
       "    }\n",
       "\n",
       "    .dataframe tbody tr th {\n",
       "        vertical-align: top;\n",
       "    }\n",
       "\n",
       "    .dataframe thead th {\n",
       "        text-align: right;\n",
       "    }\n",
       "</style>\n",
       "<table border=\"1\" class=\"dataframe\">\n",
       "  <thead>\n",
       "    <tr style=\"text-align: right;\">\n",
       "      <th></th>\n",
       "      <th>YEAR</th>\n",
       "      <th>MONTH</th>\n",
       "      <th>DAY_OF_MONTH</th>\n",
       "      <th>DAY_OF_WEEK</th>\n",
       "      <th>OP_UNIQUE_CARRIER</th>\n",
       "      <th>ORIGIN_AIRPORT_ID</th>\n",
       "      <th>DEST_AIRPORT_ID</th>\n",
       "      <th>DEP_TIME</th>\n",
       "      <th>DEP_DELAY</th>\n",
       "      <th>ARR_TIME</th>\n",
       "      <th>ARR_DELAY</th>\n",
       "      <th>CANCELLED</th>\n",
       "      <th>DIVERTED</th>\n",
       "      <th>ACTUAL_ELAPSED_TIME</th>\n",
       "      <th>AIR_TIME</th>\n",
       "      <th>DISTANCE</th>\n",
       "      <th>DELAY</th>\n",
       "    </tr>\n",
       "  </thead>\n",
       "  <tbody>\n",
       "    <tr>\n",
       "      <th>0</th>\n",
       "      <td>2018</td>\n",
       "      <td>1</td>\n",
       "      <td>22</td>\n",
       "      <td>1</td>\n",
       "      <td>UA</td>\n",
       "      <td>14771</td>\n",
       "      <td>10693</td>\n",
       "      <td>1120.00</td>\n",
       "      <td>10.00</td>\n",
       "      <td>1740.00</td>\n",
       "      <td>9.00</td>\n",
       "      <td>0.00</td>\n",
       "      <td>0.00</td>\n",
       "      <td>260.00</td>\n",
       "      <td>222.00</td>\n",
       "      <td>1969.00</td>\n",
       "      <td>0</td>\n",
       "    </tr>\n",
       "    <tr>\n",
       "      <th>1</th>\n",
       "      <td>2018</td>\n",
       "      <td>1</td>\n",
       "      <td>22</td>\n",
       "      <td>1</td>\n",
       "      <td>UA</td>\n",
       "      <td>12892</td>\n",
       "      <td>14679</td>\n",
       "      <td>2233.00</td>\n",
       "      <td>-12.00</td>\n",
       "      <td>2323.00</td>\n",
       "      <td>-15.00</td>\n",
       "      <td>0.00</td>\n",
       "      <td>0.00</td>\n",
       "      <td>50.00</td>\n",
       "      <td>27.00</td>\n",
       "      <td>109.00</td>\n",
       "      <td>1</td>\n",
       "    </tr>\n",
       "    <tr>\n",
       "      <th>2</th>\n",
       "      <td>2018</td>\n",
       "      <td>1</td>\n",
       "      <td>22</td>\n",
       "      <td>1</td>\n",
       "      <td>UA</td>\n",
       "      <td>11292</td>\n",
       "      <td>12266</td>\n",
       "      <td>1357.00</td>\n",
       "      <td>-3.00</td>\n",
       "      <td>1720.00</td>\n",
       "      <td>-1.00</td>\n",
       "      <td>0.00</td>\n",
       "      <td>0.00</td>\n",
       "      <td>143.00</td>\n",
       "      <td>121.00</td>\n",
       "      <td>862.00</td>\n",
       "      <td>1</td>\n",
       "    </tr>\n",
       "    <tr>\n",
       "      <th>3</th>\n",
       "      <td>2018</td>\n",
       "      <td>1</td>\n",
       "      <td>22</td>\n",
       "      <td>1</td>\n",
       "      <td>UA</td>\n",
       "      <td>11618</td>\n",
       "      <td>14679</td>\n",
       "      <td>1614.00</td>\n",
       "      <td>-7.00</td>\n",
       "      <td>1902.00</td>\n",
       "      <td>-33.00</td>\n",
       "      <td>0.00</td>\n",
       "      <td>0.00</td>\n",
       "      <td>348.00</td>\n",
       "      <td>320.00</td>\n",
       "      <td>2425.00</td>\n",
       "      <td>1</td>\n",
       "    </tr>\n",
       "    <tr>\n",
       "      <th>4</th>\n",
       "      <td>2018</td>\n",
       "      <td>1</td>\n",
       "      <td>22</td>\n",
       "      <td>1</td>\n",
       "      <td>UA</td>\n",
       "      <td>11298</td>\n",
       "      <td>11292</td>\n",
       "      <td>910.00</td>\n",
       "      <td>-5.00</td>\n",
       "      <td>1015.00</td>\n",
       "      <td>-10.00</td>\n",
       "      <td>0.00</td>\n",
       "      <td>0.00</td>\n",
       "      <td>125.00</td>\n",
       "      <td>100.00</td>\n",
       "      <td>641.00</td>\n",
       "      <td>1</td>\n",
       "    </tr>\n",
       "  </tbody>\n",
       "</table>\n",
       "</div>"
      ],
      "text/plain": [
       "   YEAR  MONTH  DAY_OF_MONTH  DAY_OF_WEEK OP_UNIQUE_CARRIER  \\\n",
       "0  2018      1            22            1                UA   \n",
       "1  2018      1            22            1                UA   \n",
       "2  2018      1            22            1                UA   \n",
       "3  2018      1            22            1                UA   \n",
       "4  2018      1            22            1                UA   \n",
       "\n",
       "   ORIGIN_AIRPORT_ID  DEST_AIRPORT_ID  DEP_TIME  DEP_DELAY  ARR_TIME  \\\n",
       "0              14771            10693   1120.00      10.00   1740.00   \n",
       "1              12892            14679   2233.00     -12.00   2323.00   \n",
       "2              11292            12266   1357.00      -3.00   1720.00   \n",
       "3              11618            14679   1614.00      -7.00   1902.00   \n",
       "4              11298            11292    910.00      -5.00   1015.00   \n",
       "\n",
       "   ARR_DELAY  CANCELLED  DIVERTED  ACTUAL_ELAPSED_TIME  AIR_TIME  DISTANCE  \\\n",
       "0       9.00       0.00      0.00               260.00    222.00   1969.00   \n",
       "1     -15.00       0.00      0.00                50.00     27.00    109.00   \n",
       "2      -1.00       0.00      0.00               143.00    121.00    862.00   \n",
       "3     -33.00       0.00      0.00               348.00    320.00   2425.00   \n",
       "4     -10.00       0.00      0.00               125.00    100.00    641.00   \n",
       "\n",
       "   DELAY  \n",
       "0      0  \n",
       "1      1  \n",
       "2      1  \n",
       "3      1  \n",
       "4      1  "
      ]
     },
     "execution_count": 77,
     "metadata": {},
     "output_type": "execute_result"
    }
   ],
   "source": [
    "df.head()"
   ]
  },
  {
   "cell_type": "code",
   "execution_count": 78,
   "id": "8457c907-0e9e-4201-8b60-062282252c46",
   "metadata": {},
   "outputs": [
    {
     "data": {
      "text/html": [
       "<div>\n",
       "<style scoped>\n",
       "    .dataframe tbody tr th:only-of-type {\n",
       "        vertical-align: middle;\n",
       "    }\n",
       "\n",
       "    .dataframe tbody tr th {\n",
       "        vertical-align: top;\n",
       "    }\n",
       "\n",
       "    .dataframe thead th {\n",
       "        text-align: right;\n",
       "    }\n",
       "</style>\n",
       "<table border=\"1\" class=\"dataframe\">\n",
       "  <thead>\n",
       "    <tr style=\"text-align: right;\">\n",
       "      <th></th>\n",
       "      <th>count</th>\n",
       "      <th>mean</th>\n",
       "      <th>std</th>\n",
       "      <th>min</th>\n",
       "      <th>25%</th>\n",
       "      <th>50%</th>\n",
       "      <th>75%</th>\n",
       "      <th>max</th>\n",
       "    </tr>\n",
       "  </thead>\n",
       "  <tbody>\n",
       "    <tr>\n",
       "      <th>YEAR</th>\n",
       "      <td>27992248.00000</td>\n",
       "      <td>2019.75518</td>\n",
       "      <td>1.31509</td>\n",
       "      <td>2018.00000</td>\n",
       "      <td>2019.00000</td>\n",
       "      <td>2020.00000</td>\n",
       "      <td>2021.00000</td>\n",
       "      <td>2022.00000</td>\n",
       "    </tr>\n",
       "    <tr>\n",
       "      <th>MONTH</th>\n",
       "      <td>27992248.00000</td>\n",
       "      <td>6.30430</td>\n",
       "      <td>3.48790</td>\n",
       "      <td>1.00000</td>\n",
       "      <td>3.00000</td>\n",
       "      <td>6.00000</td>\n",
       "      <td>9.00000</td>\n",
       "      <td>12.00000</td>\n",
       "    </tr>\n",
       "    <tr>\n",
       "      <th>DAY_OF_MONTH</th>\n",
       "      <td>27992248.00000</td>\n",
       "      <td>15.74488</td>\n",
       "      <td>8.77568</td>\n",
       "      <td>1.00000</td>\n",
       "      <td>8.00000</td>\n",
       "      <td>16.00000</td>\n",
       "      <td>23.00000</td>\n",
       "      <td>31.00000</td>\n",
       "    </tr>\n",
       "    <tr>\n",
       "      <th>DAY_OF_WEEK</th>\n",
       "      <td>27992248.00000</td>\n",
       "      <td>3.96953</td>\n",
       "      <td>2.00179</td>\n",
       "      <td>1.00000</td>\n",
       "      <td>2.00000</td>\n",
       "      <td>4.00000</td>\n",
       "      <td>6.00000</td>\n",
       "      <td>7.00000</td>\n",
       "    </tr>\n",
       "    <tr>\n",
       "      <th>ORIGIN_AIRPORT_ID</th>\n",
       "      <td>27992248.00000</td>\n",
       "      <td>12674.76829</td>\n",
       "      <td>1526.77627</td>\n",
       "      <td>10135.00000</td>\n",
       "      <td>11292.00000</td>\n",
       "      <td>12889.00000</td>\n",
       "      <td>14057.00000</td>\n",
       "      <td>16869.00000</td>\n",
       "    </tr>\n",
       "    <tr>\n",
       "      <th>DEST_AIRPORT_ID</th>\n",
       "      <td>27992248.00000</td>\n",
       "      <td>12674.75217</td>\n",
       "      <td>1526.77846</td>\n",
       "      <td>10135.00000</td>\n",
       "      <td>11292.00000</td>\n",
       "      <td>12889.00000</td>\n",
       "      <td>14057.00000</td>\n",
       "      <td>16869.00000</td>\n",
       "    </tr>\n",
       "    <tr>\n",
       "      <th>DEP_TIME</th>\n",
       "      <td>27256640.00000</td>\n",
       "      <td>1292.15906</td>\n",
       "      <td>486.28766</td>\n",
       "      <td>1.00000</td>\n",
       "      <td>919.00000</td>\n",
       "      <td>1323.00000</td>\n",
       "      <td>1736.00000</td>\n",
       "      <td>2400.00000</td>\n",
       "    </tr>\n",
       "    <tr>\n",
       "      <th>DEP_DELAY</th>\n",
       "      <td>27255214.00000</td>\n",
       "      <td>9.91141</td>\n",
       "      <td>45.05509</td>\n",
       "      <td>-611.00000</td>\n",
       "      <td>-6.00000</td>\n",
       "      <td>-3.00000</td>\n",
       "      <td>5.00000</td>\n",
       "      <td>3890.00000</td>\n",
       "    </tr>\n",
       "    <tr>\n",
       "      <th>ARR_TIME</th>\n",
       "      <td>27233119.00000</td>\n",
       "      <td>1381.04871</td>\n",
       "      <td>520.51447</td>\n",
       "      <td>1.00000</td>\n",
       "      <td>1055.00000</td>\n",
       "      <td>1505.00000</td>\n",
       "      <td>1911.00000</td>\n",
       "      <td>2400.00000</td>\n",
       "    </tr>\n",
       "    <tr>\n",
       "      <th>ARR_DELAY</th>\n",
       "      <td>27176409.00000</td>\n",
       "      <td>3.46046</td>\n",
       "      <td>46.73924</td>\n",
       "      <td>-475.00000</td>\n",
       "      <td>-16.00000</td>\n",
       "      <td>-7.00000</td>\n",
       "      <td>6.00000</td>\n",
       "      <td>3864.00000</td>\n",
       "    </tr>\n",
       "    <tr>\n",
       "      <th>CANCELLED</th>\n",
       "      <td>27992248.00000</td>\n",
       "      <td>nan</td>\n",
       "      <td>0.00000</td>\n",
       "      <td>0.00000</td>\n",
       "      <td>0.00000</td>\n",
       "      <td>0.00000</td>\n",
       "      <td>0.00000</td>\n",
       "      <td>1.00000</td>\n",
       "    </tr>\n",
       "    <tr>\n",
       "      <th>DIVERTED</th>\n",
       "      <td>27992248.00000</td>\n",
       "      <td>0.00217</td>\n",
       "      <td>0.04611</td>\n",
       "      <td>0.00000</td>\n",
       "      <td>0.00000</td>\n",
       "      <td>0.00000</td>\n",
       "      <td>0.00000</td>\n",
       "      <td>1.00000</td>\n",
       "    </tr>\n",
       "    <tr>\n",
       "      <th>ACTUAL_ELAPSED_TIME</th>\n",
       "      <td>27176955.00000</td>\n",
       "      <td>134.17511</td>\n",
       "      <td>71.07182</td>\n",
       "      <td>4.00000</td>\n",
       "      <td>82.00000</td>\n",
       "      <td>117.00000</td>\n",
       "      <td>165.00000</td>\n",
       "      <td>1604.00000</td>\n",
       "    </tr>\n",
       "    <tr>\n",
       "      <th>AIR_TIME</th>\n",
       "      <td>27170031.00000</td>\n",
       "      <td>110.06376</td>\n",
       "      <td>69.30969</td>\n",
       "      <td>4.00000</td>\n",
       "      <td>60.00000</td>\n",
       "      <td>92.00000</td>\n",
       "      <td>140.00000</td>\n",
       "      <td>1557.00000</td>\n",
       "    </tr>\n",
       "    <tr>\n",
       "      <th>DISTANCE</th>\n",
       "      <td>27992248.00000</td>\n",
       "      <td>719.95081</td>\n",
       "      <td>562.92053</td>\n",
       "      <td>16.00000</td>\n",
       "      <td>362.00000</td>\n",
       "      <td>632.00000</td>\n",
       "      <td>1024.00000</td>\n",
       "      <td>5812.00000</td>\n",
       "    </tr>\n",
       "    <tr>\n",
       "      <th>DELAY</th>\n",
       "      <td>27992248.00000</td>\n",
       "      <td>0.65363</td>\n",
       "      <td>0.47581</td>\n",
       "      <td>0.00000</td>\n",
       "      <td>0.00000</td>\n",
       "      <td>1.00000</td>\n",
       "      <td>1.00000</td>\n",
       "      <td>1.00000</td>\n",
       "    </tr>\n",
       "  </tbody>\n",
       "</table>\n",
       "</div>"
      ],
      "text/plain": [
       "                              count         mean         std          min  \\\n",
       "YEAR                 27992248.00000   2019.75518     1.31509   2018.00000   \n",
       "MONTH                27992248.00000      6.30430     3.48790      1.00000   \n",
       "DAY_OF_MONTH         27992248.00000     15.74488     8.77568      1.00000   \n",
       "DAY_OF_WEEK          27992248.00000      3.96953     2.00179      1.00000   \n",
       "ORIGIN_AIRPORT_ID    27992248.00000  12674.76829  1526.77627  10135.00000   \n",
       "DEST_AIRPORT_ID      27992248.00000  12674.75217  1526.77846  10135.00000   \n",
       "DEP_TIME             27256640.00000   1292.15906   486.28766      1.00000   \n",
       "DEP_DELAY            27255214.00000      9.91141    45.05509   -611.00000   \n",
       "ARR_TIME             27233119.00000   1381.04871   520.51447      1.00000   \n",
       "ARR_DELAY            27176409.00000      3.46046    46.73924   -475.00000   \n",
       "CANCELLED            27992248.00000          nan     0.00000      0.00000   \n",
       "DIVERTED             27992248.00000      0.00217     0.04611      0.00000   \n",
       "ACTUAL_ELAPSED_TIME  27176955.00000    134.17511    71.07182      4.00000   \n",
       "AIR_TIME             27170031.00000    110.06376    69.30969      4.00000   \n",
       "DISTANCE             27992248.00000    719.95081   562.92053     16.00000   \n",
       "DELAY                27992248.00000      0.65363     0.47581      0.00000   \n",
       "\n",
       "                             25%          50%          75%          max  \n",
       "YEAR                  2019.00000   2020.00000   2021.00000   2022.00000  \n",
       "MONTH                    3.00000      6.00000      9.00000     12.00000  \n",
       "DAY_OF_MONTH             8.00000     16.00000     23.00000     31.00000  \n",
       "DAY_OF_WEEK              2.00000      4.00000      6.00000      7.00000  \n",
       "ORIGIN_AIRPORT_ID    11292.00000  12889.00000  14057.00000  16869.00000  \n",
       "DEST_AIRPORT_ID      11292.00000  12889.00000  14057.00000  16869.00000  \n",
       "DEP_TIME               919.00000   1323.00000   1736.00000   2400.00000  \n",
       "DEP_DELAY               -6.00000     -3.00000      5.00000   3890.00000  \n",
       "ARR_TIME              1055.00000   1505.00000   1911.00000   2400.00000  \n",
       "ARR_DELAY              -16.00000     -7.00000      6.00000   3864.00000  \n",
       "CANCELLED                0.00000      0.00000      0.00000      1.00000  \n",
       "DIVERTED                 0.00000      0.00000      0.00000      1.00000  \n",
       "ACTUAL_ELAPSED_TIME     82.00000    117.00000    165.00000   1604.00000  \n",
       "AIR_TIME                60.00000     92.00000    140.00000   1557.00000  \n",
       "DISTANCE               362.00000    632.00000   1024.00000   5812.00000  \n",
       "DELAY                    0.00000      1.00000      1.00000      1.00000  "
      ]
     },
     "execution_count": 78,
     "metadata": {},
     "output_type": "execute_result"
    }
   ],
   "source": [
    "summary_stats = df.describe().apply(lambda s: s.apply('{0:.5f}'.format))\n",
    "summary_stats.transpose()"
   ]
  },
  {
   "cell_type": "markdown",
   "id": "4ef0375d-19e3-4154-ba00-1faf66868d43",
   "metadata": {},
   "source": [
    "### To fill the columns that needs be"
   ]
  },
  {
   "cell_type": "code",
   "execution_count": 26,
   "id": "90c821c8-8795-4798-a0c9-568ccffd12bd",
   "metadata": {},
   "outputs": [],
   "source": [
    "#df['CARRIER_DELAY'] = df['CARRIER_DELAY'].fillna(0)\n",
    "#df['WEATHER_DELAY'] = df['WEATHER_DELAY'].fillna(0)\n",
    "#df['NAS_DELAY'] = df['NAS_DELAY'].fillna(0)\n",
    "#df['SECURITY_DELAY'] = df['SECURITY_DELAY'].fillna(0)\n",
    "#df['LATE_AIRCRAFT_DELAY'] = df['LATE_AIRCRAFT_DELAY'].fillna(0)"
   ]
  },
  {
   "cell_type": "code",
   "execution_count": null,
   "id": "53aba3bc-c418-4311-b5f6-518c3f3e9731",
   "metadata": {},
   "outputs": [],
   "source": [
    "#boxplots\n",
    "#delay_reasons = pd.DataFrame(data = df, columns = ['CARRIER_DELAY','WEATHER_DELAY','NAS_DELAY','SECURITY_DELAY','LATE_AIRCRAFT_DELAY'])\n",
    "#sns.boxplot(x=\"variable\", y=\"value\", data=pd.melt(delay_reasons))\n",
    "#plt.show()"
   ]
  },
  {
   "cell_type": "code",
   "execution_count": null,
   "id": "79476620-09e3-43fc-bcaa-ea845d808152",
   "metadata": {},
   "outputs": [],
   "source": [
    "#print rows where the specific varioble is less than 0\n",
    "df[df['CARRIER_DELAY'] < 0]"
   ]
  },
  {
   "cell_type": "code",
   "execution_count": 28,
   "id": "8541112d-74fe-426d-9315-a507663165c0",
   "metadata": {},
   "outputs": [
    {
     "data": {
      "text/plain": [
       "28"
      ]
     },
     "execution_count": 28,
     "metadata": {},
     "output_type": "execute_result"
    }
   ],
   "source": [
    "df[\"OP_UNIQUE_CARRIER\"].nunique()"
   ]
  },
  {
   "cell_type": "code",
   "execution_count": null,
   "id": "720e546a-ca17-40c0-b19f-22518cda238f",
   "metadata": {},
   "outputs": [],
   "source": [
    "df[\"ORIGIN_AIRPORT_ID\"].nunique()"
   ]
  },
  {
   "cell_type": "code",
   "execution_count": null,
   "id": "a15aedbd-6608-49a8-944a-2ba4417c0d21",
   "metadata": {},
   "outputs": [],
   "source": [
    "df[\"DEST_AIRPORT_ID\"].nunique()"
   ]
  },
  {
   "cell_type": "code",
   "execution_count": 30,
   "id": "15e7352e-3556-4732-a0de-a24b45370c20",
   "metadata": {
    "tags": []
   },
   "outputs": [
    {
     "name": "stdout",
     "output_type": "stream",
     "text": [
      "B    264204\n",
      "D    251611\n",
      "A    164991\n",
      "C     69612\n",
      "Name: CANCELLATION_CODE, dtype: int64\n"
     ]
    }
   ],
   "source": [
    "item_counts = df[\"CANCELLATION_CODE\"].value_counts()\n",
    "print(item_counts)"
   ]
  },
  {
   "cell_type": "code",
   "execution_count": 34,
   "id": "6d756156-b32e-4e07-9b4c-fb2a453c0556",
   "metadata": {},
   "outputs": [
    {
     "name": "stdout",
     "output_type": "stream",
     "text": [
      "1.00    56155\n",
      "0.00     8713\n",
      "Name: DIV_REACHED_DEST, dtype: int64\n"
     ]
    }
   ],
   "source": [
    "item_counts = df[\"DIV_REACHED_DEST\"].value_counts()\n",
    "print(item_counts)"
   ]
  },
  {
   "cell_type": "code",
   "execution_count": 31,
   "id": "bd3f99ed-103c-48fe-b8e2-e8d339eba07b",
   "metadata": {},
   "outputs": [],
   "source": [
    "#df.CANCELLATION_CODE = df.CANCELLATION_CODE.fillna('NOT_CANCELLED')\n",
    "#df.DIV_REACHED_DEST = df.DIV_REACHED_DEST.fillna('NOT_CANCELLED')"
   ]
  },
  {
   "cell_type": "code",
   "execution_count": null,
   "id": "afd73857-5ff8-4f9e-9195-b2a2ec95607b",
   "metadata": {},
   "outputs": [],
   "source": [
    "item_counts = df[\"DEST\"].value_counts()\n",
    "print(item_counts)"
   ]
  },
  {
   "cell_type": "code",
   "execution_count": null,
   "id": "e1906933-ccab-4093-ad09-47a99944bc5a",
   "metadata": {},
   "outputs": [],
   "source": [
    "item_counts = df[\"OP_UNIQUE_CARRIER\"].value_counts()\n",
    "print(item_counts)"
   ]
  },
  {
   "cell_type": "code",
   "execution_count": null,
   "id": "92c75ef7-dff8-49db-9b5c-9a6180b4b8e8",
   "metadata": {},
   "outputs": [],
   "source": [
    "print(df.keys())"
   ]
  },
  {
   "cell_type": "code",
   "execution_count": null,
   "id": "35cdead7-1801-4c99-82fe-94cd3070fd10",
   "metadata": {},
   "outputs": [],
   "source": [
    "fig, axs = plt.subplots(2, 2, figsize=(20, 10))\n",
    "\n",
    "sns.histplot(data=df, x=\"DEP_DELAY\", kde=True, color=\"skyblue\", ax=axs[0, 0])"
   ]
  },
  {
   "cell_type": "code",
   "execution_count": 116,
   "id": "68345fea-66bb-44c0-909b-d3bb3eae30d7",
   "metadata": {},
   "outputs": [
    {
     "data": {
      "text/plain": [
       "<matplotlib.collections.PathCollection at 0x27d8030a850>"
      ]
     },
     "execution_count": 116,
     "metadata": {},
     "output_type": "execute_result"
    },
    {
     "data": {
      "image/png": "[encoded data removed]",
      "text/plain": [
       "<Figure size 432x288 with 1 Axes>"
      ]
     },
     "metadata": {
      "needs_background": "light"
     },
     "output_type": "display_data"
    }
   ],
   "source": [
    "plt.scatter(df['MONTH'], df['DEP_DELAY'])"
   ]
  },
  {
   "cell_type": "markdown",
   "id": "7a1bc0da-b9fe-4ef0-bc8c-6cb2bc8e9f81",
   "metadata": {},
   "source": [
    "### Data Preprocessing\n",
    "After loading the data, it’s a good practice to see if there are any missing values in the data. We count the number of missing values for each feature using isnull()"
   ]
  },
  {
   "cell_type": "markdown",
   "id": "9890cde3-bc62-48db-b315-f5ed63bcdfd0",
   "metadata": {},
   "source": [
    "### 1. Missing Values"
   ]
  },
  {
   "cell_type": "code",
   "execution_count": null,
   "id": "66f952d2-f5c0-4cd4-bb9c-d768c74e3cde",
   "metadata": {
    "tags": []
   },
   "outputs": [],
   "source": [
    "#Missing values count\n",
    "df.isnull().sum()\n",
    "#df.isna().sum()"
   ]
  },
  {
   "cell_type": "code",
   "execution_count": null,
   "id": "c3a403a5-c3af-4f26-b204-7b811780932d",
   "metadata": {},
   "outputs": [],
   "source": [
    "#Missing values %\n",
    "df. isnull(). sum() * 100 / len(df)"
   ]
  },
  {
   "cell_type": "code",
   "execution_count": null,
   "id": "a6d2b0a5-9a08-4cb1-8b8b-cfa2f6d6d61d",
   "metadata": {},
   "outputs": [],
   "source": [
    "#Print rows which are missing in the variable 'DEP_TIME' - check validity of them being missing\n",
    "isna_dep_time = (df[df['DEP_TIME'].isna()])\n",
    "isna_dep_time.head()"
   ]
  },
  {
   "cell_type": "code",
   "execution_count": null,
   "id": "a47e3abc-3843-4805-b119-57b45e1f73b4",
   "metadata": {
    "tags": []
   },
   "outputs": [],
   "source": [
    "#Print rows which are populated for the variable 'CARRIER_DELAY'\n",
    "notisna_carrier_delay = (df[~df['CARRIER_DELAY'].isna()])\n",
    "notisna_carrier_delay.head()\n",
    "#b[~np.isnan(a)]"
   ]
  },
  {
   "cell_type": "code",
   "execution_count": null,
   "id": "a80862f0-491d-4850-893e-4b9c4addbb23",
   "metadata": {},
   "outputs": [],
   "source": [
    "(df[~df['CARRIER_DELAY'].isna()]).count()\n"
   ]
  },
  {
   "cell_type": "markdown",
   "id": "e43a4bf5-140f-4036-8578-ff96e5debf6d",
   "metadata": {},
   "source": [
    "### EDA\n",
    "Exploratory Data Analysis is a very important step before training the model. In this section, we will use some visualizations to understand the relationship of the target variable with other features."
   ]
  },
  {
   "cell_type": "code",
   "execution_count": null,
   "id": "fab7568c-5d3b-44c6-a471-fda7c7ae4396",
   "metadata": {},
   "outputs": [],
   "source": [
    "carriers = pd.read_csv(r'C:/Users/lkom/Work/MIT/MIT805/L_UNIQUE_CARRIERS.csv')\n",
    "carrier_dict = dict(carriers.values)\n"
   ]
  },
  {
   "cell_type": "code",
   "execution_count": 64,
   "id": "0fd6c1ec-620d-41a4-b87c-6cb17a60d648",
   "metadata": {},
   "outputs": [],
   "source": [
    "df['DELAYED'] = df['ARR_DELAY'].apply(lambda x: x > 0) #from previous lesson"
   ]
  },
  {
   "cell_type": "code",
   "execution_count": 60,
   "id": "9a885f97-d5be-411d-a3e4-57c45827782e",
   "metadata": {},
   "outputs": [
    {
     "name": "stdout",
     "output_type": "stream",
     "text": [
      "1    18296443\n",
      "0     9695820\n",
      "Name: DELAY, dtype: int64\n"
     ]
    }
   ],
   "source": [
    "item_counts = df[\"DELAY\"].value_counts()\n",
    "print(item_counts)"
   ]
  },
  {
   "cell_type": "code",
   "execution_count": 65,
   "id": "47cba7f8-f65b-4424-b3f1-ac141a62dacf",
   "metadata": {},
   "outputs": [
    {
     "data": {
      "image/png": "[encoded data removed]",
      "text/plain": [
       "<Figure size 432x288 with 1 Axes>"
      ]
     },
     "metadata": {
      "needs_background": "light"
     },
     "output_type": "display_data"
    }
   ],
   "source": [
    "df.groupby('DELAY').agg({'DELAY':'count'}).plot.bar()\n",
    "plt.show()"
   ]
  },
  {
   "cell_type": "code",
   "execution_count": 101,
   "id": "bf51d357-6016-4eaa-9c4f-e68f032a7e67",
   "metadata": {},
   "outputs": [
    {
     "name": "stdout",
     "output_type": "stream",
     "text": [
      "OP_UNIQUE_CARRIER\n",
      "Southwest Airlines Co.                      3391501.00\n",
      "Delta Air Lines Inc.                        2304759.00\n",
      "SkyWest Airlines Inc.                       2104409.00\n",
      "American Airlines Inc.                      1954881.00\n",
      "United Air Lines Inc.                       1497357.00\n",
      "Republic Airline                             855284.00\n",
      "Endeavor Air Inc.                            736556.00\n",
      "Envoy Air                                    673834.00\n",
      "JetBlue Airways                              636695.00\n",
      "PSA Airlines Inc.                            604916.00\n",
      "Alaska Airlines Inc.                         567420.00\n",
      "Spirit Air Lines                             524736.00\n",
      "Mesa Airlines Inc.                           467713.00\n",
      "Frontier Airlines Inc.                       333356.00\n",
      "Horizon Air                                  266784.00\n",
      "Allegiant Air                                265170.00\n",
      "ExpressJet Airlines LLC d/b/a aha!           217588.00\n",
      "Hawaiian Airlines Inc.                       201130.00\n",
      "Air Wisconsin Airlines Corp                  158251.00\n",
      "Piedmont Airlines                            138800.00\n",
      "GoJet Airlines LLC d/b/a United Express      110309.00\n",
      "Alis Cargo Airlines S.P.A.                   102446.00\n",
      "Trans States Airlines                         92992.00\n",
      "Commutair Aka Champlain Enterprises, Inc.     63912.00\n",
      "Empire Airlines Inc.                          12666.00\n",
      "Virgin America                                10815.00\n",
      "Cape Air                                       1220.00\n",
      "Peninsula Airways Inc.                          942.00\n",
      "Name: DELAY, dtype: float64\n"
     ]
    }
   ],
   "source": [
    "#Airlines\n",
    "pd.options.display.float_format = '{0:.2f}'.format\n",
    "b = df.groupby('OP_UNIQUE_CARRIER').agg({'DELAY':'sum'}).rename(index=carrier_dict)\n",
    "#b['Flights'] = b['YEAR']/len(df)\n",
    "print(b['DELAY'].sort_values(ascending=[False]))"
   ]
  },
  {
   "cell_type": "code",
   "execution_count": null,
   "id": "f186eab0-d200-45aa-9ada-036ec21762e6",
   "metadata": {
    "tags": []
   },
   "outputs": [],
   "source": [
    "#Flights per month\n",
    "pd.options.display.float_format = '{0:.2%}'.format\n",
    "flights_per_month = df.groupby(['YEAR','MONTH'])['MONTH'].count()\n",
    "#df['YEAR'].groupby(df['YEAR','MONTH']).agg('count').plot.bar()\n",
    "#plt.show()\n",
    "print(flights_per_month)\n",
    "\n",
    "#b.head()"
   ]
  },
  {
   "cell_type": "code",
   "execution_count": null,
   "id": "4d7d288f-0c1d-452a-b951-17db351a12df",
   "metadata": {
    "tags": []
   },
   "outputs": [],
   "source": [
    "crossa = pd.crosstab(df.YEAR, df.MONTH,rownames=['YEAR'], colnames=['MONTH'],margins=True)\n",
    "print(crossa)"
   ]
  },
  {
   "cell_type": "raw",
   "id": "53e7240d-9b1a-43a2-8d33-10b5a4ebeb3f",
   "metadata": {},
   "source": [
    "print(pd.DataFrame(crossa))"
   ]
  },
  {
   "cell_type": "code",
   "execution_count": null,
   "id": "70a28081-188a-45cd-b557-eac81692618b",
   "metadata": {},
   "outputs": [],
   "source": [
    "pd.crosstab(df.YEAR, df.MONTH, normalize='index')"
   ]
  },
  {
   "cell_type": "code",
   "execution_count": null,
   "id": "97c9f4d3-06b6-44fc-8545-3891a87aaeb4",
   "metadata": {},
   "outputs": [],
   "source": [
    "b.head()"
   ]
  },
  {
   "cell_type": "code",
   "execution_count": 19,
   "id": "8d179e1b-3f37-4c3d-88f1-9d4416d334b4",
   "metadata": {},
   "outputs": [
    {
     "name": "stdout",
     "output_type": "stream",
     "text": [
      "OP_UNIQUE_CARRIER\n",
      "Southwest Airlines Co.                      19.14%\n",
      "Delta Air Lines Inc.                        11.49%\n",
      "SkyWest Airlines Inc.                       11.06%\n",
      "American Airlines Inc.                      10.92%\n",
      "United Air Lines Inc.                        8.21%\n",
      "Republic Airline                             4.49%\n",
      "JetBlue Airways                              3.87%\n",
      "Envoy Air                                    3.75%\n",
      "Endeavor Air Inc.                            3.49%\n",
      "PSA Airlines Inc.                            3.35%\n",
      "Alaska Airlines Inc.                         3.16%\n",
      "Spirit Air Lines                             2.92%\n",
      "Mesa Airlines Inc.                           2.64%\n",
      "Frontier Airlines Inc.                       1.99%\n",
      "Allegiant Air                                1.70%\n",
      "Horizon Air                                  1.49%\n",
      "ExpressJet Airlines LLC d/b/a aha!           1.26%\n",
      "Hawaiian Airlines Inc.                       1.09%\n",
      "Air Wisconsin Airlines Corp                  0.86%\n",
      "Piedmont Airlines                            0.78%\n",
      "GoJet Airlines LLC d/b/a United Express      0.59%\n",
      "Trans States Airlines                        0.58%\n",
      "Alis Cargo Airlines S.P.A.                   0.55%\n",
      "Commutair Aka Champlain Enterprises, Inc.    0.45%\n",
      "Empire Airlines Inc.                         0.08%\n",
      "Virgin America                               0.06%\n",
      "Peninsula Airways Inc.                       0.01%\n",
      "Cape Air                                     0.01%\n",
      "Name: Flights, dtype: float64\n"
     ]
    }
   ],
   "source": [
    "#Airlines\n",
    "pd.options.display.float_format = '{0:.2%}'.format\n",
    "b = df.groupby('OP_UNIQUE_CARRIER').agg({'YEAR':'count'}).rename(index=carrier_dict)\n",
    "b['Flights'] = b['YEAR']/len(df)\n",
    "print(b['Flights'].sort_values(ascending=[False]))"
   ]
  },
  {
   "cell_type": "code",
   "execution_count": null,
   "id": "3c89c91c-2849-4313-a8d2-6876f8967ddb",
   "metadata": {},
   "outputs": [],
   "source": [
    "#Months\n",
    "pd.options.display.float_format = '{0:.2%}'.format\n",
    "b = df.groupby('MONTH').agg({'YEAR':'count'}).rename(index=carrier_dict)\n",
    "b['Flights'] = b['YEAR']/len(df)\n",
    "print(b['Flights'].sort_values(ascending=[False]))"
   ]
  },
  {
   "cell_type": "code",
   "execution_count": null,
   "id": "63090c3e-0348-4bc2-bef0-7c60279672d8",
   "metadata": {},
   "outputs": [],
   "source": [
    "b['Flights'].plot(kind='pie', y='value_column')"
   ]
  },
  {
   "cell_type": "code",
   "execution_count": 82,
   "id": "04861148-8ca3-47c5-aaba-3a9bd11ea318",
   "metadata": {},
   "outputs": [],
   "source": [
    "airports = pd.read_csv(r'C:/Users/lkom/Work/MIT/MIT805/L_AIRPORT_ID.csv')\n",
    "airport_dict = dict(airports.values)"
   ]
  },
  {
   "cell_type": "code",
   "execution_count": 99,
   "id": "d92c1fff-e56c-4229-b274-97f08629ac45",
   "metadata": {},
   "outputs": [
    {
     "name": "stdout",
     "output_type": "stream",
     "text": [
      "ORIGIN_AIRPORT_ID\n",
      "Atlanta, GA: Hartsfield-Jackson Atlanta International     1344275\n",
      "Chicago, IL: Chicago O'Hare International                 1272621\n",
      "Denver, CO: Denver International                          1134840\n",
      "Dallas/Fort Worth, TX: Dallas/Fort Worth International    1079704\n",
      "Charlotte, NC: Charlotte Douglas International             847811\n",
      "                                                           ...   \n",
      "Cold Bay, AK: Cold Bay Airport                                262\n",
      "Mobile, AL: Mobile Downtown                                   205\n",
      "Wilmington, DE: New Castle                                    165\n",
      "Rota, TT: Benjamin Taisacan Manglona International            151\n",
      "Youngstown/Warren, OH: Youngstown-Warren Regional               2\n",
      "Name: YEAR, Length: 388, dtype: int64 ORIGIN_AIRPORT_ID\n",
      "Atlanta, GA: Hartsfield-Jackson Atlanta International    4.80%\n",
      "Chicago, IL: Chicago O'Hare International                4.55%\n",
      "Denver, CO: Denver International                         4.05%\n",
      "Dallas/Fort Worth, TX: Dallas/Fort Worth International   3.86%\n",
      "Charlotte, NC: Charlotte Douglas International           3.03%\n",
      "                                                          ... \n",
      "Cold Bay, AK: Cold Bay Airport                           0.00%\n",
      "Mobile, AL: Mobile Downtown                              0.00%\n",
      "Wilmington, DE: New Castle                               0.00%\n",
      "Rota, TT: Benjamin Taisacan Manglona International       0.00%\n",
      "Youngstown/Warren, OH: Youngstown-Warren Regional        0.00%\n",
      "Name: Airport, Length: 388, dtype: float64\n"
     ]
    }
   ],
   "source": [
    "#Airports\n",
    "pd.options.display.float_format = '{0:.2%}'.format\n",
    "b = df.groupby('ORIGIN_AIRPORT_ID').agg({'YEAR':'count'}).rename(index=airport_dict)\n",
    "b['Airport'] = b['YEAR']/len(df)\n",
    "print(b['YEAR'].sort_values(ascending=[False]),b['Airport'].sort_values(ascending=[False]))\n",
    "#b.head()"
   ]
  },
  {
   "cell_type": "code",
   "execution_count": 103,
   "id": "5939e462-0611-4015-8291-dbbedbb171e9",
   "metadata": {},
   "outputs": [
    {
     "name": "stdout",
     "output_type": "stream",
     "text": [
      "OP_UNIQUE_CARRIER\n",
      "Endeavor Air Inc.                           75.33%\n",
      "Cape Air                                    73.45%\n",
      "Delta Air Lines Inc.                        71.66%\n",
      "Republic Airline                            68.04%\n",
      "SkyWest Airlines Inc.                       68.00%\n",
      "GoJet Airlines LLC d/b/a United Express     66.53%\n",
      "Hawaiian Airlines Inc.                      66.16%\n",
      "Alis Cargo Airlines S.P.A.                  66.10%\n",
      "Air Wisconsin Airlines Corp                 66.06%\n",
      "United Air Lines Inc.                       65.13%\n",
      "PSA Airlines Inc.                           64.48%\n",
      "Spirit Air Lines                            64.20%\n",
      "Envoy Air                                   64.13%\n",
      "Alaska Airlines Inc.                        64.05%\n",
      "American Airlines Inc.                      63.94%\n",
      "Horizon Air                                 63.87%\n",
      "Piedmont Airlines                           63.52%\n",
      "Southwest Airlines Co.                      63.32%\n",
      "Mesa Airlines Inc.                          63.21%\n",
      "ExpressJet Airlines LLC d/b/a aha!          61.52%\n",
      "Virgin America                              61.21%\n",
      "Frontier Airlines Inc.                      59.82%\n",
      "Empire Airlines Inc.                        59.33%\n",
      "JetBlue Airways                             58.78%\n",
      "Trans States Airlines                       57.55%\n",
      "Allegiant Air                               55.60%\n",
      "Commutair Aka Champlain Enterprises, Inc.   51.16%\n",
      "Peninsula Airways Inc.                      33.85%\n",
      "Name: Pct_Delayed, dtype: float64\n"
     ]
    }
   ],
   "source": [
    "pd.options.display.float_format = '{0:.2%}'.format\n",
    "b = df.groupby('OP_UNIQUE_CARRIER').agg({'DELAY':'sum','YEAR':'count'}).rename(index=carrier_dict)\n",
    "b['Pct_Delayed'] = b['DELAY']/b['YEAR']\n",
    "print(b['Pct_Delayed'].sort_values(ascending=[False]))"
   ]
  },
  {
   "cell_type": "code",
   "execution_count": null,
   "id": "50d89597-bcb5-4cf6-91d6-727c70ec58ea",
   "metadata": {},
   "outputs": [],
   "source": [
    "df.groupby('OP_UNIQUE_CARRIER').agg({'DEP_DELAY':'mean', 'ARR_DELAY':'mean'}).rename(index=carrier_dict).sort_values('DEP_DELAY', ascending=False).plot.bar()\n",
    "plt.show()"
   ]
  },
  {
   "cell_type": "code",
   "execution_count": 105,
   "id": "fb589ecc-7aea-4efb-8f56-6dec27449226",
   "metadata": {},
   "outputs": [
    {
     "name": "stdout",
     "output_type": "stream",
     "text": [
      "MONTH\n",
      "1    67.59%\n",
      "2    64.05%\n",
      "3    65.81%\n",
      "4    63.90%\n",
      "5    65.40%\n",
      "6    59.97%\n",
      "7    63.02%\n",
      "8    63.46%\n",
      "9    71.47%\n",
      "10   67.58%\n",
      "11   68.64%\n",
      "12   63.44%\n",
      "Name: Pct_Delayed, dtype: float64\n"
     ]
    }
   ],
   "source": [
    "pd.options.display.float_format = '{0:.2%}'.format\n",
    "b = df.groupby('MONTH').agg({'DELAY':'sum','YEAR':'count'}).rename(index=carrier_dict)\n",
    "b['Pct_Delayed'] = b['DELAY']/b['YEAR']\n",
    "print(b['Pct_Delayed'])"
   ]
  },
  {
   "cell_type": "code",
   "execution_count": 106,
   "id": "78ed09a2-ebe3-4e22-91dc-af4ff5534cca",
   "metadata": {},
   "outputs": [
    {
     "name": "stdout",
     "output_type": "stream",
     "text": [
      "DAY_OF_WEEK\n",
      "1   64.88%\n",
      "2   67.71%\n",
      "3   66.81%\n",
      "4   63.12%\n",
      "5   62.89%\n",
      "6   67.66%\n",
      "7   65.01%\n",
      "Name: Pct_Delayed, dtype: float64\n"
     ]
    }
   ],
   "source": [
    "pd.options.display.float_format = '{0:.2%}'.format\n",
    "b = df.groupby('DAY_OF_WEEK').agg({'DELAY':'sum','YEAR':'count'}).rename(index=carrier_dict)\n",
    "b['Pct_Delayed'] = b['DELAY']/b['YEAR']\n",
    "print(b['Pct_Delayed'])"
   ]
  },
  {
   "cell_type": "code",
   "execution_count": 112,
   "id": "336681a1-7617-4b9c-a5b4-edf5c9893132",
   "metadata": {},
   "outputs": [
    {
     "name": "stdout",
     "output_type": "stream",
     "text": [
      "ORIGIN_AIRPORT_ID\n",
      "Victoria, TX: Victoria Regional                                       85.45%\n",
      "Fort Leonard Wood, MO: Waynesville-St. Robert Regional Forney Field   83.52%\n",
      "Fort Dodge, IA: Fort Dodge Regional                                   81.85%\n",
      "Hibbing, MN: Range Regional                                           81.15%\n",
      "Pocatello, ID: Pocatello Regional                                     81.12%\n",
      "                                                                       ...  \n",
      "Adak Island, AK: Adak                                                 40.18%\n",
      "Pago Pago, TT: Pago Pago International                                39.18%\n",
      "Wilmington, DE: New Castle                                            38.79%\n",
      "Cold Bay, AK: Cold Bay Airport                                        28.63%\n",
      "Youngstown/Warren, OH: Youngstown-Warren Regional                      0.00%\n",
      "Name: Pct_Delayed, Length: 388, dtype: float64\n"
     ]
    }
   ],
   "source": [
    "pd.set_option(\"display.max.columns\", None)\n",
    "pd.options.display.float_format = '{0:.2%}'.format\n",
    "b = df.groupby('ORIGIN_AIRPORT_ID').agg({'DELAY':'sum','YEAR':'count'}).rename(index=airport_dict)\n",
    "b['Pct_Delayed'] = b['DELAY']/b['YEAR']\n",
    "print(b['Pct_Delayed'].sort_values(ascending=[False]))"
   ]
  },
  {
   "cell_type": "code",
   "execution_count": 67,
   "id": "d1cef094-4537-4dff-8a56-7def7f42fb22",
   "metadata": {},
   "outputs": [
    {
     "data": {
      "text/plain": [
       "0.00    27241845\n",
       "1.00      750418\n",
       "Name: CANCELLED, dtype: int64"
      ]
     },
     "execution_count": 67,
     "metadata": {},
     "output_type": "execute_result"
    }
   ],
   "source": [
    "df.CANCELLED.value_counts()"
   ]
  },
  {
   "cell_type": "code",
   "execution_count": 66,
   "id": "9925565a-dbcc-416e-b535-2ac76f8aeef0",
   "metadata": {},
   "outputs": [
    {
     "name": "stdout",
     "output_type": "stream",
     "text": [
      "0.00    27241845\n",
      "1.00      750418\n",
      "Name: CANCELLED, dtype: int64\n"
     ]
    }
   ],
   "source": [
    "item_counts = df[\"CANCELLED\"].value_counts()\n",
    "print(item_counts)"
   ]
  },
  {
   "cell_type": "code",
   "execution_count": null,
   "id": "b1669c93-e917-486b-a161-0a5608656ab1",
   "metadata": {},
   "outputs": [],
   "source": [
    "sum(df['CANCELLED']==1)"
   ]
  },
  {
   "cell_type": "code",
   "execution_count": null,
   "id": "ea37c082-2775-4250-964f-afeaaf96fd17",
   "metadata": {
    "tags": []
   },
   "outputs": [],
   "source": [
    "#cancelled flights\n",
    "a = sum(df['CANCELLED']==1)/len(df)\n",
    "\"{0:.2%}\".format(a)"
   ]
  },
  {
   "cell_type": "code",
   "execution_count": null,
   "id": "99c038da-e4a0-43a8-a3fb-8b7305782a3e",
   "metadata": {},
   "outputs": [],
   "source": [
    "from tabulate import tabulate"
   ]
  },
  {
   "cell_type": "code",
   "execution_count": null,
   "id": "4d69fcab-a5e7-4d49-9ba5-e3543b81789f",
   "metadata": {
    "tags": []
   },
   "outputs": [],
   "source": [
    "b = df.groupby('YEAR').agg({'CANCELLED':'sum','YEAR':'count'})\n",
    "b['Pct_Cancelled'] = b['CANCELLED']/b['YEAR']\n",
    "pd.options.display.float_format = '{0:.2%}'.format\n",
    "print(b)"
   ]
  },
  {
   "cell_type": "code",
   "execution_count": null,
   "id": "ac0d2755-76a8-4fa1-8ceb-554a889e0cbd",
   "metadata": {},
   "outputs": [],
   "source": [
    "pd.options.display.float_format = '{0:.2%}'.format\n",
    "b = df.groupby('OP_UNIQUE_CARRIER').agg({'CANCELLED':'sum','YEAR':'count'}).rename(index=carrier_dict)\n",
    "b['Pct_Cancelled'] = b['CANCELLED']/b['YEAR']\n",
    "print(b['Pct_Cancelled'].sort_values(ascending=[False]))"
   ]
  },
  {
   "cell_type": "code",
   "execution_count": null,
   "id": "0be7bf8f-02a6-4710-acb8-a5a93905e63e",
   "metadata": {},
   "outputs": [],
   "source": [
    "pd.options.display.float_format = '{0:.2%}'.format\n",
    "b = df.groupby('MONTH').agg({'CANCELLED':'sum','YEAR':'count'}).rename(index=carrier_dict)\n",
    "b['Pct_Cancelled'] = b['CANCELLED']/b['YEAR']\n",
    "print(b['Pct_Cancelled'])"
   ]
  },
  {
   "cell_type": "code",
   "execution_count": null,
   "id": "ea2155c0-0248-4e74-8e59-fa24381fbaf4",
   "metadata": {},
   "outputs": [],
   "source": [
    "pd.options.display.float_format = '{0:.2%}'.format\n",
    "b = df.groupby('DAY_OF_WEEK').agg({'CANCELLED':'sum','YEAR':'count'}).rename(index=carrier_dict)\n",
    "b['Pct_Cancelled'] = b['CANCELLED']/b['YEAR']\n",
    "print(b['Pct_Cancelled'])"
   ]
  },
  {
   "cell_type": "code",
   "execution_count": null,
   "id": "bf580e59-bd15-4930-a990-dcde16cb2cc4",
   "metadata": {},
   "outputs": [],
   "source": [
    "pd.options.display.float_format = '{0:.2%}'.format\n",
    "b = df.groupby('ORIGIN_AIRPORT_ID').agg({'CANCELLED':'sum','YEAR':'count'}).rename(index=airport_dict)\n",
    "b['Pct_Cancelled'] = b['CANCELLED']/b['YEAR']\n",
    "print(b['Pct_Cancelled'].sort_values(ascending=[False]))"
   ]
  },
  {
   "cell_type": "code",
   "execution_count": null,
   "id": "0683e909-ac33-4cb7-9ae1-a6375b72f52b",
   "metadata": {},
   "outputs": [],
   "source": [
    "#diverted flights\n",
    "a = sum(df['DIVERTED']==1)/len(df)\n",
    "\"{0:.2%}\".format(a)"
   ]
  },
  {
   "cell_type": "code",
   "execution_count": null,
   "id": "1c0ca956-82b7-4105-bfc9-0c6bed5ae33c",
   "metadata": {},
   "outputs": [],
   "source": [
    "b = df.groupby('YEAR').agg({'DIVERTED':'sum','YEAR':'count'})\n",
    "b['Pct_Diverted'] = b['DIVERTED']/b['YEAR']\n",
    "pd.options.display.float_format = '{0:.2%}'.format\n",
    "print(b)"
   ]
  },
  {
   "cell_type": "code",
   "execution_count": null,
   "id": "25d5b966-e5ae-463c-9750-0b83332eca30",
   "metadata": {},
   "outputs": [],
   "source": [
    "pd.options.display.float_format = '{0:.2%}'.format\n",
    "b = df.groupby('OP_UNIQUE_CARRIER').agg({'DIVERTED':'sum','YEAR':'count'}).rename(index=carrier_dict)\n",
    "b['Pct_Diverted'] = b['DIVERTED']/b['YEAR']\n",
    "print(b['Pct_Diverted'].sort_values(ascending=[False]))"
   ]
  },
  {
   "cell_type": "code",
   "execution_count": null,
   "id": "a95a3b80-7b5d-4d70-8596-342b88a688a2",
   "metadata": {},
   "outputs": [],
   "source": [
    "pd.options.display.float_format = '{0:.2%}'.format\n",
    "b = df.groupby('MONTH').agg({'DIVERTED':'sum','YEAR':'count'}).rename(index=carrier_dict)\n",
    "b['Pct_Diverted'] = b['DIVERTED']/b['YEAR']\n",
    "print(b['Pct_Diverted'])"
   ]
  },
  {
   "cell_type": "code",
   "execution_count": null,
   "id": "d700aabf-be7b-4278-a86f-6ec2d332a12b",
   "metadata": {},
   "outputs": [],
   "source": [
    "pd.options.display.float_format = '{0:.2%}'.format\n",
    "b = df.groupby('DAY_OF_WEEK').agg({'DIVERTED':'sum','YEAR':'count'}).rename(index=carrier_dict)\n",
    "b['Pct_Diverted'] = b['DIVERTED']/b['YEAR']\n",
    "print(b['Pct_Diverted'])"
   ]
  },
  {
   "cell_type": "code",
   "execution_count": null,
   "id": "65b2a6e6-f046-4d2b-aa02-4d02058c8c3a",
   "metadata": {},
   "outputs": [],
   "source": [
    "#Delay Reasons\n",
    "print(\"Percentage of missing values:\", (df.CARRIER_DELAY.isna().sum()*100/len(df)))"
   ]
  },
  {
   "cell_type": "code",
   "execution_count": null,
   "id": "261ec481-26eb-4617-b4c4-cb215c1acb59",
   "metadata": {
    "tags": []
   },
   "outputs": [],
   "source": [
    "#Distribution of delays\n",
    "df.loc[:,['DepDelay', 'ArrDelay']].plot.density(xlim=(-50,100))"
   ]
  },
  {
   "cell_type": "code",
   "execution_count": null,
   "id": "f5d1d424-8597-4171-b753-c9252bf23df2",
   "metadata": {},
   "outputs": [],
   "source": [
    "#Which Airlines have the longest delays\n",
    "\n",
    "#carriers = pd.read_csv(r'C:\\Users\\lkom\\MIT\\airplane\\carriers.csv')\n",
    "#carrier_dict = dict(carriers.values)\n",
    "df.groupby('OP_UNIQUE_CARRIER').agg({'DEP_DELAY':'mean', 'ARR_DELAY':'mean'}).rename(index=carrier_dict).sort_values('DEP_DELAY', ascending=False).plot.bar()\n",
    "plt.show()"
   ]
  },
  {
   "cell_type": "code",
   "execution_count": null,
   "id": "d47b4c4f-5994-49d3-b874-e4aa3b7454c8",
   "metadata": {},
   "outputs": [],
   "source": [
    "df.groupby('OP_UNIQUE_CARRIER').agg({'DEP_DELAY':'mean', 'ARR_DELAY':'mean'}).rename(index=carrier_dict).sort_values('ARR_DELAY', ascending=False).plot.bar()\n",
    "plt.show()"
   ]
  },
  {
   "cell_type": "code",
   "execution_count": null,
   "id": "7ec14275-b618-4e87-b0c0-a0d2c641acdf",
   "metadata": {},
   "outputs": [],
   "source": [
    "#Delays by year\n",
    "df.groupby('YEAR').agg({'DEP_DELAY':'mean', 'ARR_DELAY':'mean'}).plot.line()\n",
    "plt.show()"
   ]
  },
  {
   "cell_type": "code",
   "execution_count": null,
   "id": "90105716-dcc5-40cd-a713-bbd177734184",
   "metadata": {},
   "outputs": [],
   "source": [
    "#Delays by month\n",
    "df.groupby('MONTH').agg({'DEP_DELAY':'mean', 'ARR_DELAY':'mean'}).plot.line()\n",
    "plt.show()"
   ]
  },
  {
   "cell_type": "code",
   "execution_count": null,
   "id": "192282a3-d2af-4a8c-a90b-63a3231cdb29",
   "metadata": {},
   "outputs": [],
   "source": [
    "#Delays by day\n",
    "df.groupby('DAY_OF_WEEK').agg({'DEP_DELAY':'mean', 'ARR_DELAY':'mean'}).plot.line()\n",
    "plt.show()"
   ]
  },
  {
   "cell_type": "code",
   "execution_count": null,
   "id": "10c89e74-74aa-4461-88bd-ee9fb982d24d",
   "metadata": {},
   "outputs": [],
   "source": [
    "#worst time to travel\n",
    "df['CRS_DEP_TIME'] = pd.cut(df.CRS_DEP_TIME, list(range(0, 2500, 100)))"
   ]
  },
  {
   "cell_type": "code",
   "execution_count": null,
   "id": "8b01e475-74ab-4ddb-ac94-869cb96504ae",
   "metadata": {
    "tags": []
   },
   "outputs": [],
   "source": [
    "df.groupby('CRS_DEP_TIME').agg({'DEP_DELAY':'mean', 'ARR_DELAY':'mean'}).plot.bar()\n",
    "plt.show()"
   ]
  },
  {
   "cell_type": "code",
   "execution_count": null,
   "id": "5a326345-0faf-47e7-b70e-de28cada7412",
   "metadata": {},
   "outputs": [],
   "source": [
    "dir() #show all names of objects"
   ]
  },
  {
   "cell_type": "code",
   "execution_count": null,
   "id": "f75aa655-dff9-48f7-9df9-49f05a027a72",
   "metadata": {},
   "outputs": [],
   "source": [
    "#cancelled flights: select all the rows with cancelled flights and insert them into their own dataframe\n",
    "\n",
    "cancelled_flights = df[df['CANCELLED']==1]\n",
    "#del(cancelled_flights['CRS_DEP_TIME'])"
   ]
  },
  {
   "cell_type": "markdown",
   "id": "529fec86-d936-4d40-83ed-25d5479febc9",
   "metadata": {},
   "source": [
    "### Correlation"
   ]
  },
  {
   "cell_type": "markdown",
   "id": "e96a87c1-f479-4e3b-a4ab-1132755958bd",
   "metadata": {},
   "source": [
    "### Categorise the deemed numeric variables to categorical variables"
   ]
  },
  {
   "cell_type": "code",
   "execution_count": null,
   "id": "5fd6e955-fdc7-4e95-b89c-4c5587f129fd",
   "metadata": {},
   "outputs": [],
   "source": [
    "!pip install dython\n",
    "from dython.nominal import associations"
   ]
  },
  {
   "cell_type": "code",
   "execution_count": null,
   "id": "ac744667-101f-4b1b-985d-5b3d77db497b",
   "metadata": {},
   "outputs": [],
   "source": [
    "df['YEAR'] = pd.Categorical(df.YEAR)\n",
    "df['MONTH'] = pd.Categorical(df.MONTH)\n",
    "df['DAY_OF_WEEK'] = pd.Categorical(df.DAY_OF_WEEK)\n",
    "df['ORIGIN_AIRPORT_ID'] = pd.Categorical(df.ORIGIN_AIRPORT_ID)\n",
    "df['DEST_AIRPORT_ID'] = pd.Categorical(df.DEST_AIRPORT_ID)\n",
    "df['DAY_OF_MONTH'] = pd.Categorical(df.DAY_OF_MONTH)"
   ]
  },
  {
   "cell_type": "code",
   "execution_count": null,
   "id": "c3efde4f-001e-4199-9602-cc5454fdc1f6",
   "metadata": {},
   "outputs": [],
   "source": [
    "#identify categorical variables\n",
    "from dython.nominal import identify_nominal_columns\n",
    "categorical_features=identify_nominal_columns(df)\n",
    "categorical_features"
   ]
  },
  {
   "cell_type": "code",
   "execution_count": null,
   "id": "de78acc4-7577-4b6c-acb4-2c697d7b2551",
   "metadata": {},
   "outputs": [],
   "source": [
    "matrix = df.corr().round(2)\n",
    "mask = np.triu(np.ones_like(matrix, dtype=bool))\n",
    "sns.heatmap(matrix, annot=True, vmax=1, vmin=-1, center=0, cmap='vlag', mask=mask)\n",
    "plt.show()"
   ]
  },
  {
   "cell_type": "code",
   "execution_count": null,
   "id": "e086f387-e0c6-4ea2-8d05-45c04ca75968",
   "metadata": {
    "tags": []
   },
   "outputs": [],
   "source": [
    "df.corr()"
   ]
  },
  {
   "cell_type": "code",
   "execution_count": 98,
   "id": "ab390805-2388-484f-8545-83e7cbc4f859",
   "metadata": {
    "tags": []
   },
   "outputs": [
    {
     "data": {
      "text/plain": [
       "0.9618582034933035"
      ]
     },
     "execution_count": 98,
     "metadata": {},
     "output_type": "execute_result"
    }
   ],
   "source": [
    "df['ARR_DELAY'].corr(df['DEP_DELAY'])"
   ]
  },
  {
   "cell_type": "code",
   "execution_count": null,
   "id": "e87e47b7-3c67-40b7-8063-f7a07626ac2e",
   "metadata": {},
   "outputs": [],
   "source": [
    "df.hist(figsize  = [15, 15],bins=12) \n",
    "plt.show()"
   ]
  },
  {
   "cell_type": "markdown",
   "id": "ae0ec465-6b7b-4f1e-9044-d166c97d5b82",
   "metadata": {
    "jp-MarkdownHeadingCollapsed": true,
    "tags": []
   },
   "source": [
    "### References\n",
    "\n",
    "- https://shawnemhe.github.io/udacity-data-analyst/p6/python_eda/python_eda.html\n",
    "- https://dataverse.harvard.edu/dataset.xhtml?persistentId=doi:10.7910/DVN/HG7NV7\n",
    "- https://www.kaggle.com/code/jcbrooks/airlines-delay-and-cancellation-analysis\n",
    "- https://github.com/JaHerbas/Predicting_Flight_Delays\n",
    "- https://medium.com/analytics-vidhya/modeling-flight-delays-through-u-s-flight-data-2f0b3d7e2c89\n",
    "- https://www.elastic.co/guide/en/machine-learning/7.17/flightdata-regression.html\n",
    "- https://dmkothari.github.io/Flight-Delays-Time-Series-Analysis/\n",
    "- https://towardsdatascience.com/a-practical-guide-for-exploratory-data-analysis-flight-delays-f8a713ef7121\n",
    "- https://www.kaggle.com/code/adveros/flight-delay-eda-exploratory-data-analysis/notebook"
   ]
  }
 ],
 "metadata": {
  "kernelspec": {
   "display_name": "Python 3 (ipykernel)",
   "language": "python",
   "name": "python3"
  },
  "language_info": {
   "codemirror_mode": {
    "name": "ipython",
    "version": 3
   },
   "file_extension": ".py",
   "mimetype": "text/x-python",
   "name": "python",
   "nbconvert_exporter": "python",
   "pygments_lexer": "ipython3",
   "version": "3.9.7"
  }
 },
 "nbformat": 4,
 "nbformat_minor": 5
}
