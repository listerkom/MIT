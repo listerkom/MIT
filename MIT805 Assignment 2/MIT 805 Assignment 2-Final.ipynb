{
 "cells": [
  {
   "cell_type": "markdown",
   "id": "324b476c-97b0-4655-b6fc-87082fc3274d",
   "metadata": {},
   "source": [
    "### Importing libraries"
   ]
  },
  {
   "cell_type": "code",
   "execution_count": 5,
   "id": "49a6dfb6-b363-45a3-90f1-3539f00e2027",
   "metadata": {},
   "outputs": [],
   "source": [
    "import pyspark\n",
    "from pyspark import SparkContext\n",
    "from pyspark.sql import SparkSession\n",
    "from pyspark.sql import SQLContext\n",
    "from pyspark import SparkConf\n",
    "from pyspark.sql.types import DateType, TimestampType\n",
    "from pyspark.sql import Row\n",
    "from pyspark.sql import functions as F\n",
    "from pyspark.sql.window import Window\n",
    "import findspark as fs"
   ]
  },
  {
   "cell_type": "markdown",
   "id": "9c154fcd-2a43-4007-974f-2705112be571",
   "metadata": {
    "tags": []
   },
   "source": [
    "### Create a SparkContext that loads settings from system properties \n",
    "\n",
    "It is used to programmatically create Spark RDD, accumulators, and broadcast variables on the cluster. The Spark driver program creates and uses SparkContext to connect to the cluster manager to submit Spark jobs, and know what resource manager (YARN) to communicate to. It is the heart of the Spark application."
   ]
  },
  {
   "cell_type": "code",
   "execution_count": 6,
   "id": "48f98b82-355e-457b-b6e4-153ff8dd05cc",
   "metadata": {
    "tags": []
   },
   "outputs": [],
   "source": [
    "sc = SparkContext.getOrCreate()"
   ]
  },
  {
   "cell_type": "markdown",
   "id": "437874c1-52e7-46df-909d-a0ba8db0893a",
   "metadata": {},
   "source": [
    "### Configuration of the session\n",
    "\n",
    "- setMaster(): denotes where to run your spark application local or cluster\n",
    "- setMaster(local[*]): is to run Spark locally with as many worker threads as logical cores on your machine.\n",
    "- SparkSession: entry point to Spark to work with RDD, DataFrame, and Dataset."
   ]
  },
  {
   "cell_type": "code",
   "execution_count": 7,
   "id": "86c0d986-7ae5-4678-9c30-357465301632",
   "metadata": {},
   "outputs": [],
   "source": [
    "conf = pyspark.SparkConf()\\\n",
    "       .setAppName('SparkApp')\\\n",
    "       .setMaster('local[*]') \n",
    "#sc = pyspark.SparkContext(conf=conf)\n",
    "spark = SparkSession(sc)"
   ]
  },
  {
   "cell_type": "markdown",
   "id": "47a492da-2c5e-4abc-a1fb-87e1d3a61c7f",
   "metadata": {},
   "source": [
    "### Read the data\n",
    "\n",
    "\n",
    "- The dataframe fd will be created with the below statement\n",
    "- Create a temporary table (fdTable) from the dataframe created\n",
    "- Now we can query our data in SQL. To do so, we’ll use the spark.sql function (remember, spark is our SparkSession variable) that conveniently returns a new DataFrame"
   ]
  },
  {
   "cell_type": "code",
   "execution_count": 8,
   "id": "c3d0eb16-4cbe-40a3-8836-04b58b768da0",
   "metadata": {},
   "outputs": [],
   "source": [
    "fd = spark.read.format(\"csv\")\\\n",
    ".option(\"inferSchema\", \"true\")\\\n",
    ".option(\"header\", \"true\")\\\n",
    ".load(\"C:/Users/User/OneDrive/Desktop/Toshiba/Studies/UP/2022 S2/MIT805/Assignment/Assignment 2/Cleaned_Airline_Data.csv\")\n",
    "fd.cache() #we cache the flight dataset so subsequent queries will be faster => store in memory\n",
    "fd.createOrReplaceTempView(\"fdTable\")"
   ]
  },
  {
   "cell_type": "markdown",
   "id": "3a4df82a-3ba2-4898-903d-31106bf94798",
   "metadata": {
    "tags": []
   },
   "source": [
    "### Display number of RDDs or partitions created by default"
   ]
  },
  {
   "cell_type": "code",
   "execution_count": 9,
   "id": "0ddba1a0-1b2e-4c70-b79a-dfe8f77c43af",
   "metadata": {},
   "outputs": [
    {
     "name": "stdout",
     "output_type": "stream",
     "text": [
      "59\n"
     ]
    }
   ],
   "source": [
    "print(fd.rdd.getNumPartitions())"
   ]
  },
  {
   "cell_type": "markdown",
   "id": "2223cf82-13e3-457f-9c98-b570ff2626a9",
   "metadata": {},
   "source": [
    "Schema inference: we want Spark to take a best guess at what the schema of our DataFrame should be. We also want to specify that the first row is the header in the file, so we’ll specify that as an option, too.\n",
    "\n",
    "To get the schema information, Spark reads in a little bit of the data and then attempts to parse the types in those rows according to the types available in Spark. You also have the option of strictly specifying a schema when you read in data (which we recommend in production scenarios):\n",
    "\n",
    "Each of these DataFrames (in Scala and Python) have a set of columns with an unspecified number of rows. The reason the number of rows is unspecified is because reading data is a transformation, and is therefore a lazy operation. Spark peeked at only a couple of rows of data to try to guess what types each column should be."
   ]
  },
  {
   "cell_type": "code",
   "execution_count": 10,
   "id": "68b864ca-2ffc-4602-b04a-481efc589fc8",
   "metadata": {},
   "outputs": [
    {
     "name": "stdout",
     "output_type": "stream",
     "text": [
      "root\n",
      " |-- _c0: integer (nullable = true)\n",
      " |-- YEAR: integer (nullable = true)\n",
      " |-- MONTH: integer (nullable = true)\n",
      " |-- DAY_OF_MONTH: integer (nullable = true)\n",
      " |-- DAY_OF_WEEK: integer (nullable = true)\n",
      " |-- OP_UNIQUE_CARRIER: string (nullable = true)\n",
      " |-- ORIGIN_AIRPORT_ID: integer (nullable = true)\n",
      " |-- ORIGIN: string (nullable = true)\n",
      " |-- DEST_AIRPORT_ID: integer (nullable = true)\n",
      " |-- DEST: string (nullable = true)\n",
      " |-- CRS_DEP_TIME: integer (nullable = true)\n",
      " |-- DEP_TIME: double (nullable = true)\n",
      " |-- DEP_DELAY: double (nullable = true)\n",
      " |-- TAXI_OUT: double (nullable = true)\n",
      " |-- TAXI_IN: double (nullable = true)\n",
      " |-- CRS_ARR_TIME: integer (nullable = true)\n",
      " |-- ARR_TIME: double (nullable = true)\n",
      " |-- ARR_DELAY: double (nullable = true)\n",
      " |-- CANCELLED: double (nullable = true)\n",
      " |-- CANCELLATION_CODE: string (nullable = true)\n",
      " |-- CRS_ELAPSED_TIME: double (nullable = true)\n",
      " |-- ACTUAL_ELAPSED_TIME: double (nullable = true)\n",
      " |-- AIR_TIME: double (nullable = true)\n",
      " |-- FLIGHTS: double (nullable = true)\n",
      " |-- DISTANCE: double (nullable = true)\n",
      " |-- CARRIER_DELAY: double (nullable = true)\n",
      " |-- WEATHER_DELAY: double (nullable = true)\n",
      " |-- NAS_DELAY: double (nullable = true)\n",
      " |-- SECURITY_DELAY: double (nullable = true)\n",
      " |-- LATE_AIRCRAFT_DELAY: double (nullable = true)\n",
      " |-- DIV_REACHED_DEST: string (nullable = true)\n",
      " |-- DIV_ACTUAL_ELAPSED_TIME: double (nullable = true)\n",
      " |-- DIV_ARR_DELAY: double (nullable = true)\n",
      " |-- DELAY: integer (nullable = true)\n",
      " |-- AIRLINE_NAME: string (nullable = true)\n",
      " |-- ORIG_AIRPORT_NAME: string (nullable = true)\n",
      " |-- DEST_AIRPORT_NAME: string (nullable = true)\n",
      "\n"
     ]
    }
   ],
   "source": [
    "#view the dataframe schema\n",
    "fd.printSchema() "
   ]
  },
  {
   "cell_type": "code",
   "execution_count": 11,
   "id": "0412394f-c86c-4948-bc4b-b724869755c2",
   "metadata": {},
   "outputs": [
    {
     "data": {
      "text/plain": [
       "'C:\\\\Users\\\\User\\\\MIT805\\\\Assignment 2'"
      ]
     },
     "execution_count": 11,
     "metadata": {},
     "output_type": "execute_result"
    }
   ],
   "source": [
    "pwd #find directory where the notebook is stored"
   ]
  },
  {
   "cell_type": "code",
   "execution_count": 12,
   "id": "031ca6cd-3da2-4a9a-a546-30c887211a1c",
   "metadata": {},
   "outputs": [
    {
     "data": {
      "text/html": [
       "<div><div id=13be0429-a3d3-4885-84eb-a6fe480a4775 style=\"display:none; background-color:#9D6CFF; color:white; width:200px; height:30px; padding-left:5px; border-radius:4px; flex-direction:row; justify-content:space-around; align-items:center;\" onmouseover=\"this.style.backgroundColor='#BA9BF8'\" onmouseout=\"this.style.backgroundColor='#9D6CFF'\" onclick=\"window.commands?.execute('create-mitosheet-from-dataframe-output');\">See Full Dataframe in Mito</div> <script> if (window.commands?.hasCommand('create-mitosheet-from-dataframe-output')) document.getElementById('13be0429-a3d3-4885-84eb-a6fe480a4775').style.display = 'flex' </script> <table border=\"1\" class=\"dataframe\">\n",
       "  <thead>\n",
       "    <tr style=\"text-align: right;\">\n",
       "      <th></th>\n",
       "      <th>_c0</th>\n",
       "      <th>YEAR</th>\n",
       "      <th>MONTH</th>\n",
       "      <th>DAY_OF_MONTH</th>\n",
       "      <th>DAY_OF_WEEK</th>\n",
       "      <th>OP_UNIQUE_CARRIER</th>\n",
       "      <th>ORIGIN_AIRPORT_ID</th>\n",
       "      <th>ORIGIN</th>\n",
       "      <th>DEST_AIRPORT_ID</th>\n",
       "      <th>DEST</th>\n",
       "      <th>...</th>\n",
       "      <th>NAS_DELAY</th>\n",
       "      <th>SECURITY_DELAY</th>\n",
       "      <th>LATE_AIRCRAFT_DELAY</th>\n",
       "      <th>DIV_REACHED_DEST</th>\n",
       "      <th>DIV_ACTUAL_ELAPSED_TIME</th>\n",
       "      <th>DIV_ARR_DELAY</th>\n",
       "      <th>DELAY</th>\n",
       "      <th>AIRLINE_NAME</th>\n",
       "      <th>ORIG_AIRPORT_NAME</th>\n",
       "      <th>DEST_AIRPORT_NAME</th>\n",
       "    </tr>\n",
       "  </thead>\n",
       "  <tbody>\n",
       "    <tr>\n",
       "      <th>0</th>\n",
       "      <td>0</td>\n",
       "      <td>2018</td>\n",
       "      <td>1</td>\n",
       "      <td>22</td>\n",
       "      <td>1</td>\n",
       "      <td>UA</td>\n",
       "      <td>14771</td>\n",
       "      <td>SFO</td>\n",
       "      <td>10693</td>\n",
       "      <td>BNA</td>\n",
       "      <td>...</td>\n",
       "      <td>0.0</td>\n",
       "      <td>0.0</td>\n",
       "      <td>0.0</td>\n",
       "      <td>NOT_CANCELLED</td>\n",
       "      <td>NaN</td>\n",
       "      <td>NaN</td>\n",
       "      <td>1</td>\n",
       "      <td>United Air Lines Inc.</td>\n",
       "      <td>San Francisco, CA: San Francisco International</td>\n",
       "      <td>Nashville, TN: Nashville International</td>\n",
       "    </tr>\n",
       "    <tr>\n",
       "      <th>1</th>\n",
       "      <td>1</td>\n",
       "      <td>2018</td>\n",
       "      <td>1</td>\n",
       "      <td>22</td>\n",
       "      <td>1</td>\n",
       "      <td>UA</td>\n",
       "      <td>12892</td>\n",
       "      <td>LAX</td>\n",
       "      <td>14679</td>\n",
       "      <td>SAN</td>\n",
       "      <td>...</td>\n",
       "      <td>0.0</td>\n",
       "      <td>0.0</td>\n",
       "      <td>0.0</td>\n",
       "      <td>NOT_CANCELLED</td>\n",
       "      <td>NaN</td>\n",
       "      <td>NaN</td>\n",
       "      <td>0</td>\n",
       "      <td>United Air Lines Inc.</td>\n",
       "      <td>Los Angeles, CA: Los Angeles International</td>\n",
       "      <td>San Diego, CA: San Diego International</td>\n",
       "    </tr>\n",
       "    <tr>\n",
       "      <th>2</th>\n",
       "      <td>2</td>\n",
       "      <td>2018</td>\n",
       "      <td>1</td>\n",
       "      <td>22</td>\n",
       "      <td>1</td>\n",
       "      <td>UA</td>\n",
       "      <td>11292</td>\n",
       "      <td>DEN</td>\n",
       "      <td>12266</td>\n",
       "      <td>IAH</td>\n",
       "      <td>...</td>\n",
       "      <td>0.0</td>\n",
       "      <td>0.0</td>\n",
       "      <td>0.0</td>\n",
       "      <td>NOT_CANCELLED</td>\n",
       "      <td>NaN</td>\n",
       "      <td>NaN</td>\n",
       "      <td>0</td>\n",
       "      <td>United Air Lines Inc.</td>\n",
       "      <td>Denver, CO: Denver International</td>\n",
       "      <td>Houston, TX: George Bush Intercontinental/Houston</td>\n",
       "    </tr>\n",
       "    <tr>\n",
       "      <th>3</th>\n",
       "      <td>3</td>\n",
       "      <td>2018</td>\n",
       "      <td>1</td>\n",
       "      <td>22</td>\n",
       "      <td>1</td>\n",
       "      <td>UA</td>\n",
       "      <td>11618</td>\n",
       "      <td>EWR</td>\n",
       "      <td>14679</td>\n",
       "      <td>SAN</td>\n",
       "      <td>...</td>\n",
       "      <td>0.0</td>\n",
       "      <td>0.0</td>\n",
       "      <td>0.0</td>\n",
       "      <td>NOT_CANCELLED</td>\n",
       "      <td>NaN</td>\n",
       "      <td>NaN</td>\n",
       "      <td>0</td>\n",
       "      <td>United Air Lines Inc.</td>\n",
       "      <td>Newark, NJ: Newark Liberty International</td>\n",
       "      <td>San Diego, CA: San Diego International</td>\n",
       "    </tr>\n",
       "    <tr>\n",
       "      <th>4</th>\n",
       "      <td>4</td>\n",
       "      <td>2018</td>\n",
       "      <td>1</td>\n",
       "      <td>22</td>\n",
       "      <td>1</td>\n",
       "      <td>UA</td>\n",
       "      <td>11298</td>\n",
       "      <td>DFW</td>\n",
       "      <td>11292</td>\n",
       "      <td>DEN</td>\n",
       "      <td>...</td>\n",
       "      <td>0.0</td>\n",
       "      <td>0.0</td>\n",
       "      <td>0.0</td>\n",
       "      <td>NOT_CANCELLED</td>\n",
       "      <td>NaN</td>\n",
       "      <td>NaN</td>\n",
       "      <td>0</td>\n",
       "      <td>United Air Lines Inc.</td>\n",
       "      <td>Dallas/Fort Worth, TX: Dallas/Fort Worth International</td>\n",
       "      <td>Denver, CO: Denver International</td>\n",
       "    </tr>\n",
       "  </tbody>\n",
       "</table></div>"
      ],
      "text/plain": [
       "   _c0  YEAR  MONTH  DAY_OF_MONTH  DAY_OF_WEEK OP_UNIQUE_CARRIER  \\\n",
       "0    0  2018      1            22            1                UA   \n",
       "1    1  2018      1            22            1                UA   \n",
       "2    2  2018      1            22            1                UA   \n",
       "3    3  2018      1            22            1                UA   \n",
       "4    4  2018      1            22            1                UA   \n",
       "\n",
       "   ORIGIN_AIRPORT_ID ORIGIN  DEST_AIRPORT_ID DEST  ...  NAS_DELAY  \\\n",
       "0              14771    SFO            10693  BNA  ...        0.0   \n",
       "1              12892    LAX            14679  SAN  ...        0.0   \n",
       "2              11292    DEN            12266  IAH  ...        0.0   \n",
       "3              11618    EWR            14679  SAN  ...        0.0   \n",
       "4              11298    DFW            11292  DEN  ...        0.0   \n",
       "\n",
       "   SECURITY_DELAY  LATE_AIRCRAFT_DELAY  DIV_REACHED_DEST  \\\n",
       "0             0.0                  0.0     NOT_CANCELLED   \n",
       "1             0.0                  0.0     NOT_CANCELLED   \n",
       "2             0.0                  0.0     NOT_CANCELLED   \n",
       "3             0.0                  0.0     NOT_CANCELLED   \n",
       "4             0.0                  0.0     NOT_CANCELLED   \n",
       "\n",
       "   DIV_ACTUAL_ELAPSED_TIME  DIV_ARR_DELAY  DELAY           AIRLINE_NAME  \\\n",
       "0                      NaN            NaN      1  United Air Lines Inc.   \n",
       "1                      NaN            NaN      0  United Air Lines Inc.   \n",
       "2                      NaN            NaN      0  United Air Lines Inc.   \n",
       "3                      NaN            NaN      0  United Air Lines Inc.   \n",
       "4                      NaN            NaN      0  United Air Lines Inc.   \n",
       "\n",
       "                                   ORIG_AIRPORT_NAME  \\\n",
       "0     San Francisco, CA: San Francisco International   \n",
       "1         Los Angeles, CA: Los Angeles International   \n",
       "2                   Denver, CO: Denver International   \n",
       "3           Newark, NJ: Newark Liberty International   \n",
       "4  Dallas/Fort Worth, TX: Dallas/Fort Worth Inter...   \n",
       "\n",
       "                                   DEST_AIRPORT_NAME  \n",
       "0             Nashville, TN: Nashville International  \n",
       "1             San Diego, CA: San Diego International  \n",
       "2  Houston, TX: George Bush Intercontinental/Houston  \n",
       "3             San Diego, CA: San Diego International  \n",
       "4                   Denver, CO: Denver International  \n",
       "\n",
       "[5 rows x 37 columns]"
      ]
     },
     "execution_count": 12,
     "metadata": {},
     "output_type": "execute_result"
    }
   ],
   "source": [
    "#fix the delay logic in the dataset\n",
    "fd = fd.withColumn('DELAY', \n",
    "                   F.when(fd.ARR_DELAY <= 0, 0)\n",
    "                   .when(fd.ARR_DELAY > 0, 1)\n",
    "                   \n",
    "                  .otherwise(''))\n",
    "fd.limit(5).toPandas() #convert the first 5 rows to pandas df  "
   ]
  },
  {
   "cell_type": "code",
   "execution_count": 13,
   "id": "59377e50-10f0-4b4d-b132-64d9ca7f1892",
   "metadata": {},
   "outputs": [],
   "source": [
    "fd.createOrReplaceTempView(\"fdTable\")"
   ]
  },
  {
   "cell_type": "code",
   "execution_count": 14,
   "id": "c9d46842-7eba-4074-aef0-81b039e096a2",
   "metadata": {},
   "outputs": [
    {
     "name": "stdout",
     "output_type": "stream",
     "text": [
      "-RECORD 0-----------------------------------------------------------------\n",
      " _c0                     | 0                                              \n",
      " YEAR                    | 2018                                           \n",
      " MONTH                   | 1                                              \n",
      " DAY_OF_MONTH            | 22                                             \n",
      " DAY_OF_WEEK             | 1                                              \n",
      " OP_UNIQUE_CARRIER       | UA                                             \n",
      " ORIGIN_AIRPORT_ID       | 14771                                          \n",
      " ORIGIN                  | SFO                                            \n",
      " DEST_AIRPORT_ID         | 10693                                          \n",
      " DEST                    | BNA                                            \n",
      " CRS_DEP_TIME            | 1110                                           \n",
      " DEP_TIME                | 1120.0                                         \n",
      " DEP_DELAY               | 10.0                                           \n",
      " TAXI_OUT                | 32.0                                           \n",
      " TAXI_IN                 | 6.0                                            \n",
      " CRS_ARR_TIME            | 1731                                           \n",
      " ARR_TIME                | 1740.0                                         \n",
      " ARR_DELAY               | 9.0                                            \n",
      " CANCELLED               | 0.0                                            \n",
      " CANCELLATION_CODE       | NOT_CANCELLED                                  \n",
      " CRS_ELAPSED_TIME        | 261.0                                          \n",
      " ACTUAL_ELAPSED_TIME     | 260.0                                          \n",
      " AIR_TIME                | 222.0                                          \n",
      " FLIGHTS                 | 1.0                                            \n",
      " DISTANCE                | 1969.0                                         \n",
      " CARRIER_DELAY           | null                                           \n",
      " WEATHER_DELAY           | 0.0                                            \n",
      " NAS_DELAY               | 0.0                                            \n",
      " SECURITY_DELAY          | 0.0                                            \n",
      " LATE_AIRCRAFT_DELAY     | 0.0                                            \n",
      " DIV_REACHED_DEST        | NOT_CANCELLED                                  \n",
      " DIV_ACTUAL_ELAPSED_TIME | null                                           \n",
      " DIV_ARR_DELAY           | null                                           \n",
      " DELAY                   | 1                                              \n",
      " AIRLINE_NAME            | United Air Lines Inc.                          \n",
      " ORIG_AIRPORT_NAME       | San Francisco, CA: San Francisco International \n",
      " DEST_AIRPORT_NAME       | Nashville, TN: Nashville International         \n",
      "only showing top 1 row\n",
      "\n"
     ]
    }
   ],
   "source": [
    "#show the first 2 rows\n",
    "fd.show(1,truncate= False,vertical=True) "
   ]
  },
  {
   "cell_type": "code",
   "execution_count": 15,
   "id": "f8143b87-fe5b-4096-9c1e-92052d9da79f",
   "metadata": {},
   "outputs": [
    {
     "data": {
      "text/plain": [
       "37"
      ]
     },
     "execution_count": 15,
     "metadata": {},
     "output_type": "execute_result"
    }
   ],
   "source": [
    "#number of columns\n",
    "len(fd.columns) "
   ]
  },
  {
   "cell_type": "code",
   "execution_count": 16,
   "id": "b2a292a6-62d5-480f-9127-3ddace9cf5bc",
   "metadata": {},
   "outputs": [
    {
     "name": "stdout",
     "output_type": "stream",
     "text": [
      "[Table(name='fdtable', database=None, description=None, tableType='TEMPORARY', isTemporary=True)]\n"
     ]
    }
   ],
   "source": [
    "#list the tables created\n",
    "print(spark.catalog.listTables())"
   ]
  },
  {
   "cell_type": "markdown",
   "id": "a32c972b-5052-4b08-8b8c-6c99aa62a420",
   "metadata": {},
   "source": [
    "### Overall percentage of delayed flights"
   ]
  },
  {
   "cell_type": "code",
   "execution_count": 18,
   "id": "c8b41bbb-7fdd-4975-8b4d-629880ff30c3",
   "metadata": {},
   "outputs": [
    {
     "name": "stdout",
     "output_type": "stream",
     "text": [
      "+-----+--------+--------------------+\n",
      "|DELAY|   count|               ratio|\n",
      "+-----+--------+--------------------+\n",
      "|    0|18296443|  0.6536250034518467|\n",
      "|    1| 8879967|  0.3172293358346912|\n",
      "|     |  815853|0.029145660713462144|\n",
      "+-----+--------+--------------------+\n",
      "\n"
     ]
    }
   ],
   "source": [
    "\n",
    "spark.sql(\n",
    "    \"\"\"\n",
    "    SELECT DELAY,\n",
    "           COUNT(*) AS count,\n",
    "           COUNT(*) / (SELECT COUNT(*) FROM fdTable) AS ratio\n",
    "          \n",
    "    FROM fdTable\n",
    "    GROUP BY DELAY\n",
    "    \"\"\"\n",
    ").show()"
   ]
  },
  {
   "cell_type": "code",
   "execution_count": 19,
   "id": "ffce852a-f408-4604-bc74-e0062fbe0038",
   "metadata": {},
   "outputs": [
    {
     "name": "stdout",
     "output_type": "stream",
     "text": [
      "+-----+--------+-------------------+\n",
      "|DELAY|   count|              ratio|\n",
      "+-----+--------+-------------------+\n",
      "|    0|18296443| 0.6732472390576975|\n",
      "|    1| 8879967|0.32675276094230254|\n",
      "+-----+--------+-------------------+\n",
      "\n"
     ]
    }
   ],
   "source": [
    "spark.sql(\n",
    "    \"\"\"\n",
    "    SELECT DELAY,\n",
    "           COUNT(*) AS count,\n",
    "           COUNT(*) / (SELECT COUNT(*) FROM fdTable WHERE DELAY <> '') AS ratio\n",
    "           \n",
    "    FROM fdTable\n",
    "    GROUP BY DELAY HAVING DELAY <> ''\n",
    "    \"\"\"\n",
    ").show()"
   ]
  },
  {
   "cell_type": "markdown",
   "id": "c708d769-3d03-4379-bf2b-85aa7b4ab6fc",
   "metadata": {},
   "source": [
    "### Summary statistics of some features"
   ]
  },
  {
   "cell_type": "code",
   "execution_count": 22,
   "id": "5b9139af-b473-4826-82ca-de35b2197224",
   "metadata": {},
   "outputs": [
    {
     "name": "stdout",
     "output_type": "stream",
     "text": [
      "+-------+------------------+-----------------+------------------+-----------------+\n",
      "|summary|         ARR_DELAY|        DEP_DELAY|          AIR_TIME|         DISTANCE|\n",
      "+-------+------------------+-----------------+------------------+-----------------+\n",
      "|  count|          27176410|         27255215|          27170032|         27992263|\n",
      "|   mean|3.4599673393211243|9.204037135645416|110.06370816935365|788.0306251766783|\n",
      "| stddev| 48.84417998169425|46.82668415236928| 69.31017374810538|582.9018961437572|\n",
      "|    min|           -1290.0|          -1280.0|           -1244.0|             16.0|\n",
      "|    max|            3864.0|           3890.0|            1557.0|           5812.0|\n",
      "+-------+------------------+-----------------+------------------+-----------------+\n",
      "\n"
     ]
    }
   ],
   "source": [
    "fd.describe('ARR_DELAY','DEP_DELAY','AIR_TIME','DISTANCE').show() #arrival delay summary statistics"
   ]
  },
  {
   "cell_type": "markdown",
   "id": "cb9d31b9-8312-420f-ac3f-ee42dbb7cd1b",
   "metadata": {},
   "source": [
    "### Number of departure airports and airlines"
   ]
  },
  {
   "cell_type": "code",
   "execution_count": 23,
   "id": "ba375e7c-50f1-448b-abd1-f31a2bbe0acf",
   "metadata": {},
   "outputs": [
    {
     "name": "stdout",
     "output_type": "stream",
     "text": [
      "+--------+--------+\n",
      "|AIRPORTS|AIRLINES|\n",
      "+--------+--------+\n",
      "|     388|      28|\n",
      "+--------+--------+\n",
      "\n"
     ]
    }
   ],
   "source": [
    "spark.sql(\n",
    "    \"\"\"\n",
    "    SELECT COUNT(distinct(ORIGIN_AIRPORT_ID)) AIRPORTS,\n",
    "           COUNT(distinct(OP_UNIQUE_CARRIER)) AS AIRLINES\n",
    "    FROM fdTable\n",
    "    \"\"\"\n",
    ").show()"
   ]
  },
  {
   "cell_type": "markdown",
   "id": "2716cdae-5a65-4ff0-9220-ad4917fed255",
   "metadata": {},
   "source": [
    "### Which route has the most flights"
   ]
  },
  {
   "cell_type": "code",
   "execution_count": 25,
   "id": "d1120bf7-b31a-4716-a95f-6df3b497ad72",
   "metadata": {
    "tags": []
   },
   "outputs": [
    {
     "name": "stdout",
     "output_type": "stream",
     "text": [
      "+----------------------------------------------+----------------------------------------------+-----+\n",
      "|ORIG_AIRPORT_NAME                             |DEST_AIRPORT_NAME                             |N    |\n",
      "+----------------------------------------------+----------------------------------------------+-----+\n",
      "|San Francisco, CA: San Francisco International|Los Angeles, CA: Los Angeles International    |55141|\n",
      "|Los Angeles, CA: Los Angeles International    |San Francisco, CA: San Francisco International|55132|\n",
      "|Los Angeles, CA: Los Angeles International    |Las Vegas, NV: McCarran International         |43677|\n",
      "|Las Vegas, NV: McCarran International         |Los Angeles, CA: Los Angeles International    |43583|\n",
      "|Chicago, IL: Chicago O'Hare International     |New York, NY: LaGuardia                       |43371|\n",
      "+----------------------------------------------+----------------------------------------------+-----+\n",
      "only showing top 5 rows\n",
      "\n"
     ]
    }
   ],
   "source": [
    "query = \"SELECT ORIG_AIRPORT_NAME, DEST_AIRPORT_NAME, COUNT(*) as N FROM fdTable GROUP BY ORIG_AIRPORT_NAME, DEST_AIRPORT_NAME order by COUNT(*) desc\"\n",
    "flight_counts = (spark.sql(query)).show(5,truncate= False)"
   ]
  },
  {
   "cell_type": "markdown",
   "id": "e6123d6b-3eaa-47fa-8c55-4d0e614b6a85",
   "metadata": {},
   "source": [
    "### What departure airports tend to have delays?"
   ]
  },
  {
   "cell_type": "code",
   "execution_count": 27,
   "id": "a7177b41-42d7-4eeb-beb6-917c96b57fce",
   "metadata": {},
   "outputs": [
    {
     "name": "stdout",
     "output_type": "stream",
     "text": [
      "+-------------------------------------------------+------+-------+------------------+\n",
      "|ORIG_AIRPORT_NAME                                |DELAYS|FLIGHTS|DELAY_PCT         |\n",
      "+-------------------------------------------------+------+-------+------------------+\n",
      "|Youngstown/Warren, OH: Youngstown-Warren Regional|2.0   |2      |1.0               |\n",
      "|Cold Bay, AK: Cold Bay Airport                   |165.0 |262    |0.6297709923664122|\n",
      "|Pago Pago, TT: Pago Pago International           |174.0 |291    |0.5979381443298969|\n",
      "|Wilmington, DE: New Castle                       |94.0  |165    |0.5696969696969697|\n",
      "|Ogden, UT: Ogden-Hinckley                        |250.0 |460    |0.5434782608695652|\n",
      "+-------------------------------------------------+------+-------+------------------+\n",
      "only showing top 5 rows\n",
      "\n"
     ]
    }
   ],
   "source": [
    "query1 = \"SELECT ORIG_AIRPORT_NAME, SUM(DELAY) as DELAYS, COUNT(*) As FLIGHTS, SUM(DELAY)/COUNT(*) As DELAY_PCT FROM fdTable GROUP BY ORIG_AIRPORT_NAME order by SUM(DELAY)/COUNT(*) desc\"\n",
    "delays_per_departure_airport = (spark.sql(query1)).show(5,truncate= False)"
   ]
  },
  {
   "cell_type": "markdown",
   "id": "c8791caf-caaf-4c59-9c3e-d547fbe02cc0",
   "metadata": {},
   "source": [
    "### What airlines tend to have delays?"
   ]
  },
  {
   "cell_type": "code",
   "execution_count": 29,
   "id": "070c92ad-810b-414c-aedb-ad2635f447b4",
   "metadata": {},
   "outputs": [
    {
     "name": "stdout",
     "output_type": "stream",
     "text": [
      "+-----------------------------------------+--------+-------+-------------------+\n",
      "|AIRLINE_NAME                             |DELAYS  |FLIGHTS|DELAY_PCT          |\n",
      "+-----------------------------------------+--------+-------+-------------------+\n",
      "|Peninsula Airways Inc.                   |1351.0  |2783   |0.4854473589651455 |\n",
      "|Commutair Aka Champlain Enterprises, Inc.|53847.0 |124937 |0.4309932205831739 |\n",
      "|Allegiant Air                            |188193.0|476967 |0.3945618879293536 |\n",
      "|JetBlue Airways                          |414425.0|1083212|0.38258900381458105|\n",
      "|Trans States Airlines                    |61387.0 |161590 |0.379893557769664  |\n",
      "+-----------------------------------------+--------+-------+-------------------+\n",
      "only showing top 5 rows\n",
      "\n"
     ]
    }
   ],
   "source": [
    "query2 = \"SELECT AIRLINE_NAME, SUM(DELAY) as DELAYS, COUNT(*) As FLIGHTS, SUM(DELAY)/COUNT(*) As DELAY_PCT FROM fdTable GROUP BY AIRLINE_NAME order by SUM(DELAY)/COUNT(*) desc\"\n",
    "delays_per_airline = (spark.sql(query2)).show(5,truncate= False)"
   ]
  },
  {
   "cell_type": "markdown",
   "id": "ffd9820f-e23d-40cb-b2d4-9a83637aab1b",
   "metadata": {},
   "source": [
    "### What year&month has the highest delay percentage?"
   ]
  },
  {
   "cell_type": "code",
   "execution_count": 30,
   "id": "7cb28084-36ba-4330-b8ab-3133ef8cc2d7",
   "metadata": {},
   "outputs": [],
   "source": [
    "query3 = \"SELECT MONTH, SUM(DELAY) as DELAYS, COUNT(*) As FLIGHTS, SUM(DELAY)/COUNT(*) As DELAY_PCT FROM fdTable GROUP BY MONTH order by SUM(DELAY)/COUNT(*) desc\"\n",
    "delays_per_yrmonth = (spark.sql(query3)).toPandas()"
   ]
  },
  {
   "cell_type": "code",
   "execution_count": 31,
   "id": "4e02e03f-12c0-449e-b3e1-6315bc272550",
   "metadata": {},
   "outputs": [
    {
     "name": "stdout",
     "output_type": "stream",
     "text": [
      "total 90M\n",
      "-rw-r--r-- 1 User None 46K Oct 25 23:47 MIT 805 Assignment 2-Copy1.ipynb\n",
      "-rw-r--r-- 1 User None 45M Oct 29 12:37 MIT 805 Assignment 2-Copy2.ipynb\n",
      "-rw-r--r-- 1 User None 31K Oct 30 19:54 MIT 805 Assignment 2-Final.ipynb\n",
      "-rw-r--r-- 1 User None 45M Oct 29 10:53 MIT 805 Assignment 2.ipynb\n",
      "-rw-r--r-- 1 User None  72 Oct 29 10:51 Untitled.ipynb\n"
     ]
    }
   ],
   "source": [
    "!ls -lh"
   ]
  },
  {
   "cell_type": "code",
   "execution_count": null,
   "id": "59049671-5e6e-452b-b708-916f2d74479d",
   "metadata": {},
   "outputs": [],
   "source": []
  }
 ],
 "metadata": {
  "kernelspec": {
   "display_name": "Python 3 (ipykernel)",
   "language": "python",
   "name": "python3"
  },
  "language_info": {
   "codemirror_mode": {
    "name": "ipython",
    "version": 3
   },
   "file_extension": ".py",
   "mimetype": "text/x-python",
   "name": "python",
   "nbconvert_exporter": "python",
   "pygments_lexer": "ipython3",
   "version": "3.9.7"
  }
 },
 "nbformat": 4,
 "nbformat_minor": 5
}
